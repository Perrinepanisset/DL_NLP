{
  "nbformat": 4,
  "nbformat_minor": 0,
  "metadata": {
    "colab": {
      "name": "PROJET KAGGLE - NLP.ipynb",
      "provenance": []
    },
    "kernelspec": {
      "display_name": "Python 3",
      "name": "python3"
    }
  },
  "cells": [
    {
      "cell_type": "markdown",
      "metadata": {
        "id": "E0LBbY1-lKPk"
      },
      "source": [
        "## **NLP PROJECT**\n",
        "### **PART 1 : SINGLE OUTPUT**"
      ]
    },
    {
      "cell_type": "markdown",
      "metadata": {
        "id": "GY29K-YBS2hM"
      },
      "source": [
        "### **I. PREPROCESSING**"
      ]
    },
    {
      "cell_type": "code",
      "metadata": {
        "id": "n4pZF0vkjWQn"
      },
      "source": [
        "# Importing useful libraries\n",
        "import tensorflow as tf\n",
        "import matplotlib.pyplot as plt\n",
        "import numpy as np\n",
        "import pandas as pd\n",
        "import os\n",
        "import re"
      ],
      "execution_count": 182,
      "outputs": []
    },
    {
      "cell_type": "code",
      "metadata": {
        "colab": {
          "base_uri": "https://localhost:8080/"
        },
        "id": "lmvyhwLikApN",
        "outputId": "88f6bd31-2ecc-4763-d1df-8a576390205a"
      },
      "source": [
        "# Connecting with the drive\n",
        "from google.colab import drive\n",
        "drive.mount('/content/drive', force_remount = True)"
      ],
      "execution_count": 205,
      "outputs": [
        {
          "output_type": "stream",
          "text": [
            "Mounted at /content/drive\n"
          ],
          "name": "stdout"
        }
      ]
    },
    {
      "cell_type": "code",
      "metadata": {
        "colab": {
          "base_uri": "https://localhost:8080/",
          "height": 204
        },
        "id": "WhoIcx9bkRCa",
        "outputId": "c32a1ade-5ac9-496c-842c-a5837c0defa4"
      },
      "source": [
        "# Importing the dataset from csv\n",
        "dataset = pd.read_csv(\"/content/drive/MyDrive/Colab Notebooks/PROJETS/Projet - NLP.csv\")\n",
        "dataset.head()"
      ],
      "execution_count": 333,
      "outputs": [
        {
          "output_type": "execute_result",
          "data": {
            "text/html": [
              "<div>\n",
              "<style scoped>\n",
              "    .dataframe tbody tr th:only-of-type {\n",
              "        vertical-align: middle;\n",
              "    }\n",
              "\n",
              "    .dataframe tbody tr th {\n",
              "        vertical-align: top;\n",
              "    }\n",
              "\n",
              "    .dataframe thead th {\n",
              "        text-align: right;\n",
              "    }\n",
              "</style>\n",
              "<table border=\"1\" class=\"dataframe\">\n",
              "  <thead>\n",
              "    <tr style=\"text-align: right;\">\n",
              "      <th></th>\n",
              "      <th>id</th>\n",
              "      <th>keyword</th>\n",
              "      <th>location</th>\n",
              "      <th>text</th>\n",
              "      <th>target</th>\n",
              "    </tr>\n",
              "  </thead>\n",
              "  <tbody>\n",
              "    <tr>\n",
              "      <th>0</th>\n",
              "      <td>1</td>\n",
              "      <td>NaN</td>\n",
              "      <td>NaN</td>\n",
              "      <td>Our Deeds are the Reason of this #earthquake M...</td>\n",
              "      <td>1</td>\n",
              "    </tr>\n",
              "    <tr>\n",
              "      <th>1</th>\n",
              "      <td>4</td>\n",
              "      <td>NaN</td>\n",
              "      <td>NaN</td>\n",
              "      <td>Forest fire near La Ronge Sask. Canada</td>\n",
              "      <td>1</td>\n",
              "    </tr>\n",
              "    <tr>\n",
              "      <th>2</th>\n",
              "      <td>5</td>\n",
              "      <td>NaN</td>\n",
              "      <td>NaN</td>\n",
              "      <td>All residents asked to 'shelter in place' are ...</td>\n",
              "      <td>1</td>\n",
              "    </tr>\n",
              "    <tr>\n",
              "      <th>3</th>\n",
              "      <td>6</td>\n",
              "      <td>NaN</td>\n",
              "      <td>NaN</td>\n",
              "      <td>13,000 people receive #wildfires evacuation or...</td>\n",
              "      <td>1</td>\n",
              "    </tr>\n",
              "    <tr>\n",
              "      <th>4</th>\n",
              "      <td>7</td>\n",
              "      <td>NaN</td>\n",
              "      <td>NaN</td>\n",
              "      <td>Just got sent this photo from Ruby #Alaska as ...</td>\n",
              "      <td>1</td>\n",
              "    </tr>\n",
              "  </tbody>\n",
              "</table>\n",
              "</div>"
            ],
            "text/plain": [
              "   id keyword  ...                                               text target\n",
              "0   1     NaN  ...  Our Deeds are the Reason of this #earthquake M...      1\n",
              "1   4     NaN  ...             Forest fire near La Ronge Sask. Canada      1\n",
              "2   5     NaN  ...  All residents asked to 'shelter in place' are ...      1\n",
              "3   6     NaN  ...  13,000 people receive #wildfires evacuation or...      1\n",
              "4   7     NaN  ...  Just got sent this photo from Ruby #Alaska as ...      1\n",
              "\n",
              "[5 rows x 5 columns]"
            ]
          },
          "metadata": {
            "tags": []
          },
          "execution_count": 333
        }
      ]
    },
    {
      "cell_type": "code",
      "metadata": {
        "colab": {
          "base_uri": "https://localhost:8080/"
        },
        "id": "yCdHAO5SmTN-",
        "outputId": "270021de-e280-4085-9320-fd67e807862c"
      },
      "source": [
        "print('key words value counts :\\n',dataset.keyword.value_counts(),'\\n')\n",
        "\n",
        "print('location value counts :\\n',dataset.location.value_counts(),'\\n')"
      ],
      "execution_count": 334,
      "outputs": [
        {
          "output_type": "stream",
          "text": [
            "key words value counts :\n",
            " fatalities               45\n",
            "deluge                   42\n",
            "armageddon               42\n",
            "body%20bags              41\n",
            "sinking                  41\n",
            "                         ..\n",
            "forest%20fire            19\n",
            "epicentre                12\n",
            "threat                   11\n",
            "inundation               10\n",
            "radiation%20emergency     9\n",
            "Name: keyword, Length: 221, dtype: int64 \n",
            "\n",
            "location value counts :\n",
            " USA                               104\n",
            "New York                           71\n",
            "United States                      50\n",
            "London                             45\n",
            "Canada                             29\n",
            "                                 ... \n",
            "Manchester UK                       1\n",
            "somewhere in cali                   1\n",
            "Photo : Blue Mountains              1\n",
            "Gander NF                           1\n",
            "The Shady Hyenatown of Finland      1\n",
            "Name: location, Length: 3341, dtype: int64 \n",
            "\n"
          ],
          "name": "stdout"
        }
      ]
    },
    {
      "cell_type": "code",
      "metadata": {
        "colab": {
          "base_uri": "https://localhost:8080/"
        },
        "id": "OD-_uSQenHzX",
        "outputId": "a131ddff-a2da-4955-80ac-ffa76e628882"
      },
      "source": [
        "# Looking at NaN values\n",
        "\n",
        "dataset.isna().sum()"
      ],
      "execution_count": 335,
      "outputs": [
        {
          "output_type": "execute_result",
          "data": {
            "text/plain": [
              "id             0\n",
              "keyword       61\n",
              "location    2533\n",
              "text           0\n",
              "target         0\n",
              "dtype: int64"
            ]
          },
          "metadata": {
            "tags": []
          },
          "execution_count": 335
        }
      ]
    },
    {
      "cell_type": "code",
      "metadata": {
        "colab": {
          "base_uri": "https://localhost:8080/",
          "height": 390
        },
        "id": "ARmJ7B6Um_99",
        "outputId": "19839641-4952-457d-f2fb-d3adc24821b5"
      },
      "source": [
        "# Checking statistics informations, we can see that there are sentences in the text columns that are not unique\n",
        "\n",
        "dataset.describe(include = 'all')"
      ],
      "execution_count": 336,
      "outputs": [
        {
          "output_type": "execute_result",
          "data": {
            "text/html": [
              "<div>\n",
              "<style scoped>\n",
              "    .dataframe tbody tr th:only-of-type {\n",
              "        vertical-align: middle;\n",
              "    }\n",
              "\n",
              "    .dataframe tbody tr th {\n",
              "        vertical-align: top;\n",
              "    }\n",
              "\n",
              "    .dataframe thead th {\n",
              "        text-align: right;\n",
              "    }\n",
              "</style>\n",
              "<table border=\"1\" class=\"dataframe\">\n",
              "  <thead>\n",
              "    <tr style=\"text-align: right;\">\n",
              "      <th></th>\n",
              "      <th>id</th>\n",
              "      <th>keyword</th>\n",
              "      <th>location</th>\n",
              "      <th>text</th>\n",
              "      <th>target</th>\n",
              "    </tr>\n",
              "  </thead>\n",
              "  <tbody>\n",
              "    <tr>\n",
              "      <th>count</th>\n",
              "      <td>7613.000000</td>\n",
              "      <td>7552</td>\n",
              "      <td>5080</td>\n",
              "      <td>7613</td>\n",
              "      <td>7613.00000</td>\n",
              "    </tr>\n",
              "    <tr>\n",
              "      <th>unique</th>\n",
              "      <td>NaN</td>\n",
              "      <td>221</td>\n",
              "      <td>3341</td>\n",
              "      <td>7503</td>\n",
              "      <td>NaN</td>\n",
              "    </tr>\n",
              "    <tr>\n",
              "      <th>top</th>\n",
              "      <td>NaN</td>\n",
              "      <td>fatalities</td>\n",
              "      <td>USA</td>\n",
              "      <td>11-Year-Old Boy Charged With Manslaughter of T...</td>\n",
              "      <td>NaN</td>\n",
              "    </tr>\n",
              "    <tr>\n",
              "      <th>freq</th>\n",
              "      <td>NaN</td>\n",
              "      <td>45</td>\n",
              "      <td>104</td>\n",
              "      <td>10</td>\n",
              "      <td>NaN</td>\n",
              "    </tr>\n",
              "    <tr>\n",
              "      <th>mean</th>\n",
              "      <td>5441.934848</td>\n",
              "      <td>NaN</td>\n",
              "      <td>NaN</td>\n",
              "      <td>NaN</td>\n",
              "      <td>0.42966</td>\n",
              "    </tr>\n",
              "    <tr>\n",
              "      <th>std</th>\n",
              "      <td>3137.116090</td>\n",
              "      <td>NaN</td>\n",
              "      <td>NaN</td>\n",
              "      <td>NaN</td>\n",
              "      <td>0.49506</td>\n",
              "    </tr>\n",
              "    <tr>\n",
              "      <th>min</th>\n",
              "      <td>1.000000</td>\n",
              "      <td>NaN</td>\n",
              "      <td>NaN</td>\n",
              "      <td>NaN</td>\n",
              "      <td>0.00000</td>\n",
              "    </tr>\n",
              "    <tr>\n",
              "      <th>25%</th>\n",
              "      <td>2734.000000</td>\n",
              "      <td>NaN</td>\n",
              "      <td>NaN</td>\n",
              "      <td>NaN</td>\n",
              "      <td>0.00000</td>\n",
              "    </tr>\n",
              "    <tr>\n",
              "      <th>50%</th>\n",
              "      <td>5408.000000</td>\n",
              "      <td>NaN</td>\n",
              "      <td>NaN</td>\n",
              "      <td>NaN</td>\n",
              "      <td>0.00000</td>\n",
              "    </tr>\n",
              "    <tr>\n",
              "      <th>75%</th>\n",
              "      <td>8146.000000</td>\n",
              "      <td>NaN</td>\n",
              "      <td>NaN</td>\n",
              "      <td>NaN</td>\n",
              "      <td>1.00000</td>\n",
              "    </tr>\n",
              "    <tr>\n",
              "      <th>max</th>\n",
              "      <td>10873.000000</td>\n",
              "      <td>NaN</td>\n",
              "      <td>NaN</td>\n",
              "      <td>NaN</td>\n",
              "      <td>1.00000</td>\n",
              "    </tr>\n",
              "  </tbody>\n",
              "</table>\n",
              "</div>"
            ],
            "text/plain": [
              "                  id  ...      target\n",
              "count    7613.000000  ...  7613.00000\n",
              "unique           NaN  ...         NaN\n",
              "top              NaN  ...         NaN\n",
              "freq             NaN  ...         NaN\n",
              "mean     5441.934848  ...     0.42966\n",
              "std      3137.116090  ...     0.49506\n",
              "min         1.000000  ...     0.00000\n",
              "25%      2734.000000  ...     0.00000\n",
              "50%      5408.000000  ...     0.00000\n",
              "75%      8146.000000  ...     1.00000\n",
              "max     10873.000000  ...     1.00000\n",
              "\n",
              "[11 rows x 5 columns]"
            ]
          },
          "metadata": {
            "tags": []
          },
          "execution_count": 336
        }
      ]
    },
    {
      "cell_type": "code",
      "metadata": {
        "colab": {
          "base_uri": "https://localhost:8080/",
          "height": 204
        },
        "id": "x6KjLVoLlpJg",
        "outputId": "31b7e7cb-1ac3-4fa4-976b-b1853bd53327"
      },
      "source": [
        "# Keeping only the text and target columns\n",
        "\n",
        "dataset = dataset.loc[:, [\"keyword\",\"text\", \"target\"]]\n",
        "dataset.head()"
      ],
      "execution_count": 337,
      "outputs": [
        {
          "output_type": "execute_result",
          "data": {
            "text/html": [
              "<div>\n",
              "<style scoped>\n",
              "    .dataframe tbody tr th:only-of-type {\n",
              "        vertical-align: middle;\n",
              "    }\n",
              "\n",
              "    .dataframe tbody tr th {\n",
              "        vertical-align: top;\n",
              "    }\n",
              "\n",
              "    .dataframe thead th {\n",
              "        text-align: right;\n",
              "    }\n",
              "</style>\n",
              "<table border=\"1\" class=\"dataframe\">\n",
              "  <thead>\n",
              "    <tr style=\"text-align: right;\">\n",
              "      <th></th>\n",
              "      <th>keyword</th>\n",
              "      <th>text</th>\n",
              "      <th>target</th>\n",
              "    </tr>\n",
              "  </thead>\n",
              "  <tbody>\n",
              "    <tr>\n",
              "      <th>0</th>\n",
              "      <td>NaN</td>\n",
              "      <td>Our Deeds are the Reason of this #earthquake M...</td>\n",
              "      <td>1</td>\n",
              "    </tr>\n",
              "    <tr>\n",
              "      <th>1</th>\n",
              "      <td>NaN</td>\n",
              "      <td>Forest fire near La Ronge Sask. Canada</td>\n",
              "      <td>1</td>\n",
              "    </tr>\n",
              "    <tr>\n",
              "      <th>2</th>\n",
              "      <td>NaN</td>\n",
              "      <td>All residents asked to 'shelter in place' are ...</td>\n",
              "      <td>1</td>\n",
              "    </tr>\n",
              "    <tr>\n",
              "      <th>3</th>\n",
              "      <td>NaN</td>\n",
              "      <td>13,000 people receive #wildfires evacuation or...</td>\n",
              "      <td>1</td>\n",
              "    </tr>\n",
              "    <tr>\n",
              "      <th>4</th>\n",
              "      <td>NaN</td>\n",
              "      <td>Just got sent this photo from Ruby #Alaska as ...</td>\n",
              "      <td>1</td>\n",
              "    </tr>\n",
              "  </tbody>\n",
              "</table>\n",
              "</div>"
            ],
            "text/plain": [
              "  keyword                                               text  target\n",
              "0     NaN  Our Deeds are the Reason of this #earthquake M...       1\n",
              "1     NaN             Forest fire near La Ronge Sask. Canada       1\n",
              "2     NaN  All residents asked to 'shelter in place' are ...       1\n",
              "3     NaN  13,000 people receive #wildfires evacuation or...       1\n",
              "4     NaN  Just got sent this photo from Ruby #Alaska as ...       1"
            ]
          },
          "metadata": {
            "tags": []
          },
          "execution_count": 337
        }
      ]
    },
    {
      "cell_type": "code",
      "metadata": {
        "id": "xErJ4AL0-Dvl"
      },
      "source": [
        "def no_hastags(text):\n",
        "  #if len(text) == 0:\n",
        "    #res = \"no hashtag\"\n",
        "  #else:\n",
        "  res = \" \".join(text)\n",
        "  return res"
      ],
      "execution_count": 358,
      "outputs": []
    },
    {
      "cell_type": "code",
      "metadata": {
        "colab": {
          "base_uri": "https://localhost:8080/",
          "height": 204
        },
        "id": "q3a-cnBYugcv",
        "outputId": "26c3031f-2a37-442a-8006-8d8602806cb5"
      },
      "source": [
        "# Adding a Hastag columns\n",
        "\n",
        "dataset[\"hashtags\"] = dataset[\"text\"].apply(lambda x : re.findall('#[A-Za-z1-9]+' , x))\n",
        "dataset[\"hashtags\"] = dataset[\"hashtags\"].apply(lambda x : no_hastags(x))\n",
        "dataset.head()"
      ],
      "execution_count": 359,
      "outputs": [
        {
          "output_type": "execute_result",
          "data": {
            "text/html": [
              "<div>\n",
              "<style scoped>\n",
              "    .dataframe tbody tr th:only-of-type {\n",
              "        vertical-align: middle;\n",
              "    }\n",
              "\n",
              "    .dataframe tbody tr th {\n",
              "        vertical-align: top;\n",
              "    }\n",
              "\n",
              "    .dataframe thead th {\n",
              "        text-align: right;\n",
              "    }\n",
              "</style>\n",
              "<table border=\"1\" class=\"dataframe\">\n",
              "  <thead>\n",
              "    <tr style=\"text-align: right;\">\n",
              "      <th></th>\n",
              "      <th>keyword</th>\n",
              "      <th>text</th>\n",
              "      <th>target</th>\n",
              "      <th>hashtags</th>\n",
              "    </tr>\n",
              "  </thead>\n",
              "  <tbody>\n",
              "    <tr>\n",
              "      <th>0</th>\n",
              "      <td>NaN</td>\n",
              "      <td>Our Deeds are the Reason of this #earthquake M...</td>\n",
              "      <td>1</td>\n",
              "      <td>#earthquake</td>\n",
              "    </tr>\n",
              "    <tr>\n",
              "      <th>1</th>\n",
              "      <td>NaN</td>\n",
              "      <td>Forest fire near La Ronge Sask. Canada</td>\n",
              "      <td>1</td>\n",
              "      <td></td>\n",
              "    </tr>\n",
              "    <tr>\n",
              "      <th>2</th>\n",
              "      <td>NaN</td>\n",
              "      <td>All residents asked to 'shelter in place' are ...</td>\n",
              "      <td>1</td>\n",
              "      <td></td>\n",
              "    </tr>\n",
              "    <tr>\n",
              "      <th>3</th>\n",
              "      <td>NaN</td>\n",
              "      <td>13,000 people receive #wildfires evacuation or...</td>\n",
              "      <td>1</td>\n",
              "      <td>#wildfires</td>\n",
              "    </tr>\n",
              "    <tr>\n",
              "      <th>4</th>\n",
              "      <td>NaN</td>\n",
              "      <td>Just got sent this photo from Ruby #Alaska as ...</td>\n",
              "      <td>1</td>\n",
              "      <td>#Alaska #wildfires</td>\n",
              "    </tr>\n",
              "  </tbody>\n",
              "</table>\n",
              "</div>"
            ],
            "text/plain": [
              "  keyword  ...            hashtags\n",
              "0     NaN  ...         #earthquake\n",
              "1     NaN  ...                    \n",
              "2     NaN  ...                    \n",
              "3     NaN  ...          #wildfires\n",
              "4     NaN  ...  #Alaska #wildfires\n",
              "\n",
              "[5 rows x 4 columns]"
            ]
          },
          "metadata": {
            "tags": []
          },
          "execution_count": 359
        }
      ]
    },
    {
      "cell_type": "code",
      "metadata": {
        "colab": {
          "base_uri": "https://localhost:8080/",
          "height": 204
        },
        "id": "WlfhTLAVrljg",
        "outputId": "092f360b-177f-4c79-d1c3-a5f3b8b9e111"
      },
      "source": [
        "# Splitting the dataset\n",
        "df_text = dataset.loc[:, [\"text\", \"target\", \"hashtags\"]]\n",
        "df_text.head()"
      ],
      "execution_count": 360,
      "outputs": [
        {
          "output_type": "execute_result",
          "data": {
            "text/html": [
              "<div>\n",
              "<style scoped>\n",
              "    .dataframe tbody tr th:only-of-type {\n",
              "        vertical-align: middle;\n",
              "    }\n",
              "\n",
              "    .dataframe tbody tr th {\n",
              "        vertical-align: top;\n",
              "    }\n",
              "\n",
              "    .dataframe thead th {\n",
              "        text-align: right;\n",
              "    }\n",
              "</style>\n",
              "<table border=\"1\" class=\"dataframe\">\n",
              "  <thead>\n",
              "    <tr style=\"text-align: right;\">\n",
              "      <th></th>\n",
              "      <th>text</th>\n",
              "      <th>target</th>\n",
              "      <th>hashtags</th>\n",
              "    </tr>\n",
              "  </thead>\n",
              "  <tbody>\n",
              "    <tr>\n",
              "      <th>0</th>\n",
              "      <td>Our Deeds are the Reason of this #earthquake M...</td>\n",
              "      <td>1</td>\n",
              "      <td>#earthquake</td>\n",
              "    </tr>\n",
              "    <tr>\n",
              "      <th>1</th>\n",
              "      <td>Forest fire near La Ronge Sask. Canada</td>\n",
              "      <td>1</td>\n",
              "      <td></td>\n",
              "    </tr>\n",
              "    <tr>\n",
              "      <th>2</th>\n",
              "      <td>All residents asked to 'shelter in place' are ...</td>\n",
              "      <td>1</td>\n",
              "      <td></td>\n",
              "    </tr>\n",
              "    <tr>\n",
              "      <th>3</th>\n",
              "      <td>13,000 people receive #wildfires evacuation or...</td>\n",
              "      <td>1</td>\n",
              "      <td>#wildfires</td>\n",
              "    </tr>\n",
              "    <tr>\n",
              "      <th>4</th>\n",
              "      <td>Just got sent this photo from Ruby #Alaska as ...</td>\n",
              "      <td>1</td>\n",
              "      <td>#Alaska #wildfires</td>\n",
              "    </tr>\n",
              "  </tbody>\n",
              "</table>\n",
              "</div>"
            ],
            "text/plain": [
              "                                                text  ...            hashtags\n",
              "0  Our Deeds are the Reason of this #earthquake M...  ...         #earthquake\n",
              "1             Forest fire near La Ronge Sask. Canada  ...                    \n",
              "2  All residents asked to 'shelter in place' are ...  ...                    \n",
              "3  13,000 people receive #wildfires evacuation or...  ...          #wildfires\n",
              "4  Just got sent this photo from Ruby #Alaska as ...  ...  #Alaska #wildfires\n",
              "\n",
              "[5 rows x 3 columns]"
            ]
          },
          "metadata": {
            "tags": []
          },
          "execution_count": 360
        }
      ]
    },
    {
      "cell_type": "markdown",
      "metadata": {
        "id": "8uYwO5yxsScq"
      },
      "source": [
        "\n",
        "**PREPROCESSING WITH SPACY**"
      ]
    },
    {
      "cell_type": "code",
      "metadata": {
        "colab": {
          "base_uri": "https://localhost:8080/"
        },
        "id": "5casrQeErxCL",
        "outputId": "d34fa3ff-ac50-4405-9395-574399726283"
      },
      "source": [
        "!pip install spacy -q\n",
        "import spacy\n",
        "!python -m spacy download en_core_web_sm -q"
      ],
      "execution_count": 215,
      "outputs": [
        {
          "output_type": "stream",
          "text": [
            "\u001b[38;5;2m✔ Download and installation successful\u001b[0m\n",
            "You can now load the model via spacy.load('en_core_web_sm')\n"
          ],
          "name": "stdout"
        }
      ]
    },
    {
      "cell_type": "code",
      "metadata": {
        "id": "6ZxO-aiKsWRc"
      },
      "source": [
        "# Importing English using en_core_web_sm.load()\n",
        "import en_core_web_sm\n",
        "nlp = en_core_web_sm.load()"
      ],
      "execution_count": 216,
      "outputs": []
    },
    {
      "cell_type": "code",
      "metadata": {
        "id": "5Yuu-zPaskuO"
      },
      "source": [
        "# Importing Stop words\n",
        "from spacy.lang.en.stop_words import STOP_WORDS"
      ],
      "execution_count": 217,
      "outputs": []
    },
    {
      "cell_type": "code",
      "metadata": {
        "id": "JIAshWHVmmZ7"
      },
      "source": [
        "# Building a function that will delete the url in text\n",
        "def delete_url(text):\n",
        "  list_no_url = []\n",
        "  res = text.split()\n",
        "  for word in res:\n",
        "    if \"http\" not in word:\n",
        "      list_no_url.append(word)\n",
        "  res = \" \".join(list_no_url)\n",
        "\n",
        "  return(res)"
      ],
      "execution_count": 361,
      "outputs": []
    },
    {
      "cell_type": "code",
      "metadata": {
        "colab": {
          "base_uri": "https://localhost:8080/",
          "height": 204
        },
        "id": "NteQkpFTsrez",
        "outputId": "8e880641-0f5a-45bc-c58d-26c82b51e298"
      },
      "source": [
        "# Cleaning text before training: keeping only alpha numerical text as well as deleting web url \n",
        "df_text[\"text_clean\"] = df_text[\"text\"].apply(lambda x : delete_url(x))\n",
        "df_text[\"text_clean\"] = df_text[\"text_clean\"].apply(lambda x:''.join(ch for ch in x if ch.isalnum() or ch==\" \"))\n",
        "df_text[\"text_clean\"] = df_text[\"text_clean\"].apply(lambda x : x.replace(\" +\", \" \").lower().strip())\n",
        "df_text[\"hashtags_clean\"] = df_text[\"hashtags\"].str.replace(\"#\",\"\")\n",
        "df_text.head()"
      ],
      "execution_count": 362,
      "outputs": [
        {
          "output_type": "execute_result",
          "data": {
            "text/html": [
              "<div>\n",
              "<style scoped>\n",
              "    .dataframe tbody tr th:only-of-type {\n",
              "        vertical-align: middle;\n",
              "    }\n",
              "\n",
              "    .dataframe tbody tr th {\n",
              "        vertical-align: top;\n",
              "    }\n",
              "\n",
              "    .dataframe thead th {\n",
              "        text-align: right;\n",
              "    }\n",
              "</style>\n",
              "<table border=\"1\" class=\"dataframe\">\n",
              "  <thead>\n",
              "    <tr style=\"text-align: right;\">\n",
              "      <th></th>\n",
              "      <th>text</th>\n",
              "      <th>target</th>\n",
              "      <th>hashtags</th>\n",
              "      <th>text_clean</th>\n",
              "      <th>hashtags_clean</th>\n",
              "    </tr>\n",
              "  </thead>\n",
              "  <tbody>\n",
              "    <tr>\n",
              "      <th>0</th>\n",
              "      <td>Our Deeds are the Reason of this #earthquake M...</td>\n",
              "      <td>1</td>\n",
              "      <td>#earthquake</td>\n",
              "      <td>our deeds are the reason of this earthquake ma...</td>\n",
              "      <td>earthquake</td>\n",
              "    </tr>\n",
              "    <tr>\n",
              "      <th>1</th>\n",
              "      <td>Forest fire near La Ronge Sask. Canada</td>\n",
              "      <td>1</td>\n",
              "      <td></td>\n",
              "      <td>forest fire near la ronge sask canada</td>\n",
              "      <td></td>\n",
              "    </tr>\n",
              "    <tr>\n",
              "      <th>2</th>\n",
              "      <td>All residents asked to 'shelter in place' are ...</td>\n",
              "      <td>1</td>\n",
              "      <td></td>\n",
              "      <td>all residents asked to shelter in place are be...</td>\n",
              "      <td></td>\n",
              "    </tr>\n",
              "    <tr>\n",
              "      <th>3</th>\n",
              "      <td>13,000 people receive #wildfires evacuation or...</td>\n",
              "      <td>1</td>\n",
              "      <td>#wildfires</td>\n",
              "      <td>13000 people receive wildfires evacuation orde...</td>\n",
              "      <td>wildfires</td>\n",
              "    </tr>\n",
              "    <tr>\n",
              "      <th>4</th>\n",
              "      <td>Just got sent this photo from Ruby #Alaska as ...</td>\n",
              "      <td>1</td>\n",
              "      <td>#Alaska #wildfires</td>\n",
              "      <td>just got sent this photo from ruby alaska as s...</td>\n",
              "      <td>Alaska wildfires</td>\n",
              "    </tr>\n",
              "  </tbody>\n",
              "</table>\n",
              "</div>"
            ],
            "text/plain": [
              "                                                text  ...    hashtags_clean\n",
              "0  Our Deeds are the Reason of this #earthquake M...  ...        earthquake\n",
              "1             Forest fire near La Ronge Sask. Canada  ...                  \n",
              "2  All residents asked to 'shelter in place' are ...  ...                  \n",
              "3  13,000 people receive #wildfires evacuation or...  ...         wildfires\n",
              "4  Just got sent this photo from Ruby #Alaska as ...  ...  Alaska wildfires\n",
              "\n",
              "[5 rows x 5 columns]"
            ]
          },
          "metadata": {
            "tags": []
          },
          "execution_count": 362
        }
      ]
    },
    {
      "cell_type": "code",
      "metadata": {
        "id": "f5-TrYZOwo4N"
      },
      "source": [
        "# Building a lemmatizing function\n",
        "def lemmatize_text(text):\n",
        "  text = nlp(text)\n",
        "  lemma = \" \".join([token.lemma_ for token in text if token.text not in STOP_WORDS])\n",
        "  return lemma"
      ],
      "execution_count": 363,
      "outputs": []
    },
    {
      "cell_type": "code",
      "metadata": {
        "colab": {
          "base_uri": "https://localhost:8080/",
          "height": 204
        },
        "id": "-i9F1Qg3w28E",
        "outputId": "01e4c708-aa2b-4ac1-983c-29d6b78ce296"
      },
      "source": [
        "# Lemmatizing text\n",
        "df_text[\"text_clean\"] = df_text[\"text_clean\"].apply(lambda x : lemmatize_text(x))\n",
        "df_text.head()"
      ],
      "execution_count": 364,
      "outputs": [
        {
          "output_type": "execute_result",
          "data": {
            "text/html": [
              "<div>\n",
              "<style scoped>\n",
              "    .dataframe tbody tr th:only-of-type {\n",
              "        vertical-align: middle;\n",
              "    }\n",
              "\n",
              "    .dataframe tbody tr th {\n",
              "        vertical-align: top;\n",
              "    }\n",
              "\n",
              "    .dataframe thead th {\n",
              "        text-align: right;\n",
              "    }\n",
              "</style>\n",
              "<table border=\"1\" class=\"dataframe\">\n",
              "  <thead>\n",
              "    <tr style=\"text-align: right;\">\n",
              "      <th></th>\n",
              "      <th>text</th>\n",
              "      <th>target</th>\n",
              "      <th>hashtags</th>\n",
              "      <th>text_clean</th>\n",
              "      <th>hashtags_clean</th>\n",
              "    </tr>\n",
              "  </thead>\n",
              "  <tbody>\n",
              "    <tr>\n",
              "      <th>0</th>\n",
              "      <td>Our Deeds are the Reason of this #earthquake M...</td>\n",
              "      <td>1</td>\n",
              "      <td>#earthquake</td>\n",
              "      <td>deed reason earthquake allah forgive</td>\n",
              "      <td>earthquake</td>\n",
              "    </tr>\n",
              "    <tr>\n",
              "      <th>1</th>\n",
              "      <td>Forest fire near La Ronge Sask. Canada</td>\n",
              "      <td>1</td>\n",
              "      <td></td>\n",
              "      <td>forest fire near la ronge sask canada</td>\n",
              "      <td></td>\n",
              "    </tr>\n",
              "    <tr>\n",
              "      <th>2</th>\n",
              "      <td>All residents asked to 'shelter in place' are ...</td>\n",
              "      <td>1</td>\n",
              "      <td></td>\n",
              "      <td>resident ask shelter place notify officer evac...</td>\n",
              "      <td></td>\n",
              "    </tr>\n",
              "    <tr>\n",
              "      <th>3</th>\n",
              "      <td>13,000 people receive #wildfires evacuation or...</td>\n",
              "      <td>1</td>\n",
              "      <td>#wildfires</td>\n",
              "      <td>13000 people receive wildfire evacuation order...</td>\n",
              "      <td>wildfires</td>\n",
              "    </tr>\n",
              "    <tr>\n",
              "      <th>4</th>\n",
              "      <td>Just got sent this photo from Ruby #Alaska as ...</td>\n",
              "      <td>1</td>\n",
              "      <td>#Alaska #wildfires</td>\n",
              "      <td>get send photo ruby alaska smoke wildfire pour...</td>\n",
              "      <td>Alaska wildfires</td>\n",
              "    </tr>\n",
              "  </tbody>\n",
              "</table>\n",
              "</div>"
            ],
            "text/plain": [
              "                                                text  ...    hashtags_clean\n",
              "0  Our Deeds are the Reason of this #earthquake M...  ...        earthquake\n",
              "1             Forest fire near La Ronge Sask. Canada  ...                  \n",
              "2  All residents asked to 'shelter in place' are ...  ...                  \n",
              "3  13,000 people receive #wildfires evacuation or...  ...         wildfires\n",
              "4  Just got sent this photo from Ruby #Alaska as ...  ...  Alaska wildfires\n",
              "\n",
              "[5 rows x 5 columns]"
            ]
          },
          "metadata": {
            "tags": []
          },
          "execution_count": 364
        }
      ]
    },
    {
      "cell_type": "code",
      "metadata": {
        "colab": {
          "base_uri": "https://localhost:8080/",
          "height": 272
        },
        "id": "3a4qGHNwv_Xd",
        "outputId": "56931a4a-9b96-4f69-8339-ad8ba679b185"
      },
      "source": [
        "# Encoding the tweets\n",
        "tokenizer = tf.keras.preprocessing.text.Tokenizer()\n",
        "tokenizer.fit_on_texts(df_text[\"text_clean\"])\n",
        "df_text[\"text_encoded\"] = tokenizer.texts_to_sequences(df_text[\"text_clean\"])\n",
        "df_text[\"len_text\"] = df_text[\"text_clean\"].apply(lambda x : len(x))\n",
        "df_text = df_text[df_text[\"len_text\"] != 0]\n",
        "df_text.head()"
      ],
      "execution_count": 365,
      "outputs": [
        {
          "output_type": "execute_result",
          "data": {
            "text/html": [
              "<div>\n",
              "<style scoped>\n",
              "    .dataframe tbody tr th:only-of-type {\n",
              "        vertical-align: middle;\n",
              "    }\n",
              "\n",
              "    .dataframe tbody tr th {\n",
              "        vertical-align: top;\n",
              "    }\n",
              "\n",
              "    .dataframe thead th {\n",
              "        text-align: right;\n",
              "    }\n",
              "</style>\n",
              "<table border=\"1\" class=\"dataframe\">\n",
              "  <thead>\n",
              "    <tr style=\"text-align: right;\">\n",
              "      <th></th>\n",
              "      <th>text</th>\n",
              "      <th>target</th>\n",
              "      <th>hashtags</th>\n",
              "      <th>text_clean</th>\n",
              "      <th>hashtags_clean</th>\n",
              "      <th>text_encoded</th>\n",
              "      <th>len_text</th>\n",
              "    </tr>\n",
              "  </thead>\n",
              "  <tbody>\n",
              "    <tr>\n",
              "      <th>0</th>\n",
              "      <td>Our Deeds are the Reason of this #earthquake M...</td>\n",
              "      <td>1</td>\n",
              "      <td>#earthquake</td>\n",
              "      <td>deed reason earthquake allah forgive</td>\n",
              "      <td>earthquake</td>\n",
              "      <td>[3700, 412, 178, 1276, 1977]</td>\n",
              "      <td>36</td>\n",
              "    </tr>\n",
              "    <tr>\n",
              "      <th>1</th>\n",
              "      <td>Forest fire near La Ronge Sask. Canada</td>\n",
              "      <td>1</td>\n",
              "      <td></td>\n",
              "      <td>forest fire near la ronge sask canada</td>\n",
              "      <td></td>\n",
              "      <td>[121, 3, 165, 524, 5556, 5557, 983]</td>\n",
              "      <td>37</td>\n",
              "    </tr>\n",
              "    <tr>\n",
              "      <th>2</th>\n",
              "      <td>All residents asked to 'shelter in place' are ...</td>\n",
              "      <td>1</td>\n",
              "      <td></td>\n",
              "      <td>resident ask shelter place notify officer evac...</td>\n",
              "      <td></td>\n",
              "      <td>[1396, 462, 1729, 339, 5558, 304, 185, 1729, 3...</td>\n",
              "      <td>79</td>\n",
              "    </tr>\n",
              "    <tr>\n",
              "      <th>3</th>\n",
              "      <td>13,000 people receive #wildfires evacuation or...</td>\n",
              "      <td>1</td>\n",
              "      <td>#wildfires</td>\n",
              "      <td>13000 people receive wildfire evacuation order...</td>\n",
              "      <td>wildfires</td>\n",
              "      <td>[2350, 10, 2351, 75, 185, 305, 39]</td>\n",
              "      <td>57</td>\n",
              "    </tr>\n",
              "    <tr>\n",
              "      <th>4</th>\n",
              "      <td>Just got sent this photo from Ruby #Alaska as ...</td>\n",
              "      <td>1</td>\n",
              "      <td>#Alaska #wildfires</td>\n",
              "      <td>get send photo ruby alaska smoke wildfire pour...</td>\n",
              "      <td>Alaska wildfires</td>\n",
              "      <td>[9, 186, 125, 5559, 1730, 179, 75, 2352, 107]</td>\n",
              "      <td>53</td>\n",
              "    </tr>\n",
              "  </tbody>\n",
              "</table>\n",
              "</div>"
            ],
            "text/plain": [
              "                                                text  ...  len_text\n",
              "0  Our Deeds are the Reason of this #earthquake M...  ...        36\n",
              "1             Forest fire near La Ronge Sask. Canada  ...        37\n",
              "2  All residents asked to 'shelter in place' are ...  ...        79\n",
              "3  13,000 people receive #wildfires evacuation or...  ...        57\n",
              "4  Just got sent this photo from Ruby #Alaska as ...  ...        53\n",
              "\n",
              "[5 rows x 7 columns]"
            ]
          },
          "metadata": {
            "tags": []
          },
          "execution_count": 365
        }
      ]
    },
    {
      "cell_type": "code",
      "metadata": {
        "colab": {
          "base_uri": "https://localhost:8080/",
          "height": 289
        },
        "id": "DbDPytkhyqAF",
        "outputId": "56eb276f-bc94-46b7-882c-0f342ac15f4d"
      },
      "source": [
        "# Shuffling text\n",
        "df_text = df_text.sample(len(df_text))\n",
        "df_text.head()"
      ],
      "execution_count": 366,
      "outputs": [
        {
          "output_type": "execute_result",
          "data": {
            "text/html": [
              "<div>\n",
              "<style scoped>\n",
              "    .dataframe tbody tr th:only-of-type {\n",
              "        vertical-align: middle;\n",
              "    }\n",
              "\n",
              "    .dataframe tbody tr th {\n",
              "        vertical-align: top;\n",
              "    }\n",
              "\n",
              "    .dataframe thead th {\n",
              "        text-align: right;\n",
              "    }\n",
              "</style>\n",
              "<table border=\"1\" class=\"dataframe\">\n",
              "  <thead>\n",
              "    <tr style=\"text-align: right;\">\n",
              "      <th></th>\n",
              "      <th>text</th>\n",
              "      <th>target</th>\n",
              "      <th>hashtags</th>\n",
              "      <th>text_clean</th>\n",
              "      <th>hashtags_clean</th>\n",
              "      <th>text_encoded</th>\n",
              "      <th>len_text</th>\n",
              "    </tr>\n",
              "  </thead>\n",
              "  <tbody>\n",
              "    <tr>\n",
              "      <th>4358</th>\n",
              "      <td>San Jose Mercury: Governor Brown allows parole...</td>\n",
              "      <td>0</td>\n",
              "      <td></td>\n",
              "      <td>san jose mercury governor brown allow parole c...</td>\n",
              "      <td></td>\n",
              "      <td>[1251, 4549, 3290, 980, 486, 556, 864, 39, 107...</td>\n",
              "      <td>75</td>\n",
              "    </tr>\n",
              "    <tr>\n",
              "      <th>6348</th>\n",
              "      <td>CAP: 'the DRIVE Act represents the failure of ...</td>\n",
              "      <td>0</td>\n",
              "      <td></td>\n",
              "      <td>cap drive act represent failure senate republi...</td>\n",
              "      <td></td>\n",
              "      <td>[3534, 236, 561, 4046, 257, 2660, 1627, 1898, ...</td>\n",
              "      <td>105</td>\n",
              "    </tr>\n",
              "    <tr>\n",
              "      <th>3295</th>\n",
              "      <td>Fire crews evacuate passengers from a Gold Coa...</td>\n",
              "      <td>1</td>\n",
              "      <td>#TenNews</td>\n",
              "      <td>fire crew evacuate passenger gold coast tram t...</td>\n",
              "      <td>TenNews</td>\n",
              "      <td>[3, 478, 88, 724, 1034, 905, 1390, 218, 1709, ...</td>\n",
              "      <td>87</td>\n",
              "    </tr>\n",
              "    <tr>\n",
              "      <th>4644</th>\n",
              "      <td>@yahoocare perhaps you should change you name ...</td>\n",
              "      <td>0</td>\n",
              "      <td></td>\n",
              "      <td>yahoocare change yahoo not care inundated comp...</td>\n",
              "      <td></td>\n",
              "      <td>[12049, 148, 3211, 1, 357, 12050, 3303, 826]</td>\n",
              "      <td>59</td>\n",
              "    </tr>\n",
              "    <tr>\n",
              "      <th>513</th>\n",
              "      <td>TV program I saw said US air plane flew to ura...</td>\n",
              "      <td>1</td>\n",
              "      <td></td>\n",
              "      <td>tv program see say air plane fly uranium fukus...</td>\n",
              "      <td></td>\n",
              "      <td>[582, 1064, 81, 46, 248, 345, 949, 3886, 708, ...</td>\n",
              "      <td>86</td>\n",
              "    </tr>\n",
              "  </tbody>\n",
              "</table>\n",
              "</div>"
            ],
            "text/plain": [
              "                                                   text  ...  len_text\n",
              "4358  San Jose Mercury: Governor Brown allows parole...  ...        75\n",
              "6348  CAP: 'the DRIVE Act represents the failure of ...  ...       105\n",
              "3295  Fire crews evacuate passengers from a Gold Coa...  ...        87\n",
              "4644  @yahoocare perhaps you should change you name ...  ...        59\n",
              "513   TV program I saw said US air plane flew to ura...  ...        86\n",
              "\n",
              "[5 rows x 7 columns]"
            ]
          },
          "metadata": {
            "tags": []
          },
          "execution_count": 366
        }
      ]
    },
    {
      "cell_type": "code",
      "metadata": {
        "id": "OVoSASw50rS6"
      },
      "source": [
        "# Adding zero padding at the end of the sentences\n",
        "text_pad = tf.keras.preprocessing.sequence.pad_sequences(df_text[\"text_encoded\"], padding = \"post\")"
      ],
      "execution_count": 367,
      "outputs": []
    },
    {
      "cell_type": "code",
      "metadata": {
        "id": "K5SCV45Z1Wda"
      },
      "source": [
        "# Creating a tensort dataset\n",
        "full_ds = tf.data.Dataset.from_tensor_slices((text_pad, df_text[\"target\"].values))"
      ],
      "execution_count": 368,
      "outputs": []
    },
    {
      "cell_type": "markdown",
      "metadata": {
        "id": "Wfh6c_epe5dn"
      },
      "source": [
        "### **II. TRAIN TEST SPLIT PROCESSING**"
      ]
    },
    {
      "cell_type": "code",
      "metadata": {
        "id": "4TyW87kne_VQ"
      },
      "source": [
        "# Splitting in train set and test set then shuffling and batching\n",
        "take_size = int(df_text.shape[0] * 0.8)\n",
        "\n",
        "train_data = full_ds.take(take_size)\n",
        "test_data = full_ds.skip(take_size)\n",
        "\n",
        "train_data = train_data.shuffle(len(train_data)).batch(16)\n",
        "test_data = test_data.shuffle(len(test_data)).batch(16)"
      ],
      "execution_count": 369,
      "outputs": []
    },
    {
      "cell_type": "code",
      "metadata": {
        "colab": {
          "base_uri": "https://localhost:8080/"
        },
        "id": "0E5HRWjVfdtY",
        "outputId": "ad71404a-b990-4d54-97d4-8d3af361d573"
      },
      "source": [
        "# Looking at a batch\n",
        "for text, target in train_data.take(1):\n",
        "  print(text)\n",
        "  print(target)"
      ],
      "execution_count": 410,
      "outputs": [
        {
          "output_type": "stream",
          "text": [
            "tf.Tensor(\n",
            "[[ 2267   114   435   660  1629   971   592    44 11836 11837  2802     0\n",
            "      0     0     0     0     0     0     0     0     0     0     0     0\n",
            "      0]\n",
            " [12128   403   290     0     0     0     0     0     0     0     0     0\n",
            "      0     0     0     0     0     0     0     0     0     0     0     0\n",
            "      0]\n",
            " [14360  2107  3462   488   200    79   198   452    13    59     0     0\n",
            "      0     0     0     0     0     0     0     0     0     0     0     0\n",
            "      0]\n",
            " [  312   804  5504  2185   456  1806    80     0     0     0     0     0\n",
            "      0     0     0     0     0     0     0     0     0     0     0     0\n",
            "      0]\n",
            " [ 2188   216   403  1114   133   547  1118 14553   186   623  1096  2188\n",
            "    763 14554     0     0     0     0     0     0     0     0     0     0\n",
            "      0]\n",
            " [   76     2    87  3662   723     0     0     0     0     0     0     0\n",
            "      0     0     0     0     0     0     0     0     0     0     0     0\n",
            "      0]\n",
            " [11502 11503 11504 11505     0     0     0     0     0     0     0     0\n",
            "      0     0     0     0     0     0     0     0     0     0     0     0\n",
            "      0]\n",
            " [ 1744  5315   745    95    12   296   375    75     0     0     0     0\n",
            "      0     0     0     0     0     0     0     0     0     0     0     0\n",
            "      0]\n",
            " [   24   197   496    23  1503   461     0     0     0     0     0     0\n",
            "      0     0     0     0     0     0     0     0     0     0     0     0\n",
            "      0]\n",
            " [  948 13895  1694     7 13896   509  2891     0     0     0     0     0\n",
            "      0     0     0     0     0     0     0     0     0     0     0     0\n",
            "      0]\n",
            " [ 1648   126   693 12476  3504   684    90   149     0     0     0     0\n",
            "      0     0     0     0     0     0     0     0     0     0     0     0\n",
            "      0]\n",
            " [15659 15660   218   472  2161    57   956  1233 15661 15662 15663 15664\n",
            "   1321     0     0     0     0     0     0     0     0     0     0     0\n",
            "      0]\n",
            " [  398  3568  1055  1306   353  3569 11500   631   777 11501    91     0\n",
            "      0     0     0     0     0     0     0     0     0     0     0     0\n",
            "      0]\n",
            " [   17    14  6794   448    13  6795  6796   825  1019   634  6797     0\n",
            "      0     0     0     0     0     0     0     0     0     0     0     0\n",
            "      0]\n",
            " [ 4884  3600   126  1052  3601   255  1214     0     0     0     0     0\n",
            "      0     0     0     0     0     0     0     0     0     0     0     0\n",
            "      0]\n",
            " [ 9986   497  1903     7  1911   473    34  9987    19     0     0     0\n",
            "      0     0     0     0     0     0     0     0     0     0     0     0\n",
            "      0]], shape=(16, 25), dtype=int32)\n",
            "tf.Tensor([1 1 0 0 1 0 1 1 0 0 0 0 0 1 1 0], shape=(16,), dtype=int64)\n"
          ],
          "name": "stdout"
        }
      ]
    },
    {
      "cell_type": "markdown",
      "metadata": {
        "id": "ZhrToGIBfz9V"
      },
      "source": [
        "### **III. MODELING**"
      ]
    },
    {
      "cell_type": "code",
      "metadata": {
        "colab": {
          "base_uri": "https://localhost:8080/"
        },
        "id": "0EWJfshwf3Jc",
        "outputId": "44c44188-fca3-4126-a7b8-e7ec0c3616d3"
      },
      "source": [
        "# Looking at the size of the vocabulary\n",
        "vocab_size = len(tokenizer.word_index)\n",
        "vocab_size"
      ],
      "execution_count": 371,
      "outputs": [
        {
          "output_type": "execute_result",
          "data": {
            "text/plain": [
              "15749"
            ]
          },
          "metadata": {
            "tags": []
          },
          "execution_count": 371
        }
      ]
    },
    {
      "cell_type": "markdown",
      "metadata": {
        "id": "sCUHQS6Ygemj"
      },
      "source": [
        "**1) MODEL N°1**"
      ]
    },
    {
      "cell_type": "code",
      "metadata": {
        "id": "g-YupaPNgVT0"
      },
      "source": [
        "# Building the model\n",
        "from tensorflow.keras.layers import Embedding, Flatten, Dense, Conv1D, Dropout\n",
        "\n",
        "model_1 = tf.keras.Sequential([\n",
        "                             Embedding(vocab_size + 1, 64, input_shape=[text.shape[1],]),\n",
        "                             Conv1D(16, 3, activation=\"relu\"),\n",
        "                             Flatten(),\n",
        "                             Dense(64, activation='relu'),\n",
        "                             Dropout(0.2),\n",
        "                             Dense(32, activation='relu'),\n",
        "                             Dense(16, activation='relu'),\n",
        "                             Dropout(0.2),\n",
        "                             Dense(8, activation='relu'),\n",
        "                             Dense(1, activation=\"sigmoid\")\n",
        "                  ])"
      ],
      "execution_count": 372,
      "outputs": []
    },
    {
      "cell_type": "code",
      "metadata": {
        "colab": {
          "base_uri": "https://localhost:8080/"
        },
        "id": "xVP9jj4RhemD",
        "outputId": "17abfe9d-a790-474b-a7ab-c33db4ce7dca"
      },
      "source": [
        "# Looking at the summary of our model\n",
        "model_1.summary()"
      ],
      "execution_count": 373,
      "outputs": [
        {
          "output_type": "stream",
          "text": [
            "Model: \"sequential_11\"\n",
            "_________________________________________________________________\n",
            "Layer (type)                 Output Shape              Param #   \n",
            "=================================================================\n",
            "embedding_40 (Embedding)     (None, 25, 64)            1008000   \n",
            "_________________________________________________________________\n",
            "conv1d_9 (Conv1D)            (None, 23, 16)            3088      \n",
            "_________________________________________________________________\n",
            "flatten_11 (Flatten)         (None, 368)               0         \n",
            "_________________________________________________________________\n",
            "dense_95 (Dense)             (None, 64)                23616     \n",
            "_________________________________________________________________\n",
            "dropout_12 (Dropout)         (None, 64)                0         \n",
            "_________________________________________________________________\n",
            "dense_96 (Dense)             (None, 32)                2080      \n",
            "_________________________________________________________________\n",
            "dense_97 (Dense)             (None, 16)                528       \n",
            "_________________________________________________________________\n",
            "dropout_13 (Dropout)         (None, 16)                0         \n",
            "_________________________________________________________________\n",
            "dense_98 (Dense)             (None, 8)                 136       \n",
            "_________________________________________________________________\n",
            "dense_99 (Dense)             (None, 1)                 9         \n",
            "=================================================================\n",
            "Total params: 1,037,457\n",
            "Trainable params: 1,037,457\n",
            "Non-trainable params: 0\n",
            "_________________________________________________________________\n"
          ],
          "name": "stdout"
        }
      ]
    },
    {
      "cell_type": "code",
      "metadata": {
        "id": "Vi06WhNRhqeE"
      },
      "source": [
        "# Creating a schedule learning rate\n",
        "initial_lr = 0.0001\n",
        "lr_schedule = tf.keras.optimizers.schedules.ExponentialDecay(\n",
        "    initial_lr,\n",
        "    decay_steps = 30,\n",
        "    decay_rate = 0.96,\n",
        "    staircase = True\n",
        ")"
      ],
      "execution_count": 354,
      "outputs": []
    },
    {
      "cell_type": "code",
      "metadata": {
        "id": "Sfy32rKfiGTz"
      },
      "source": [
        "# Creating a compiler \n",
        "model_1.compile(optimizer = tf.keras.optimizers.Adam(lr_schedule),\n",
        "                loss = tf.keras.losses.BinaryCrossentropy(),\n",
        "                metrics = [tf.keras.metrics.BinaryAccuracy()])"
      ],
      "execution_count": 355,
      "outputs": []
    },
    {
      "cell_type": "code",
      "metadata": {
        "colab": {
          "base_uri": "https://localhost:8080/"
        },
        "id": "veUAWmQXidI0",
        "outputId": "2979589f-e1b0-4f25-8c67-6619eaa5d8de"
      },
      "source": [
        "# Training the model\n",
        "history_1 = model_1.fit(train_data, epochs = 20, validation_data = test_data)"
      ],
      "execution_count": 356,
      "outputs": [
        {
          "output_type": "stream",
          "text": [
            "Epoch 1/20\n",
            "381/381 [==============================] - 6s 15ms/step - loss: 0.6880 - binary_accuracy: 0.5677 - val_loss: 0.6803 - val_binary_accuracy: 0.5529\n",
            "Epoch 2/20\n",
            "381/381 [==============================] - 6s 15ms/step - loss: 0.6727 - binary_accuracy: 0.5747 - val_loss: 0.6690 - val_binary_accuracy: 0.5529\n",
            "Epoch 3/20\n",
            "381/381 [==============================] - 6s 14ms/step - loss: 0.6603 - binary_accuracy: 0.5735 - val_loss: 0.6594 - val_binary_accuracy: 0.5529\n",
            "Epoch 4/20\n",
            "381/381 [==============================] - 6s 14ms/step - loss: 0.6456 - binary_accuracy: 0.5885 - val_loss: 0.6516 - val_binary_accuracy: 0.5601\n",
            "Epoch 5/20\n",
            "381/381 [==============================] - 6s 15ms/step - loss: 0.6317 - binary_accuracy: 0.6000 - val_loss: 0.6460 - val_binary_accuracy: 0.6087\n",
            "Epoch 6/20\n",
            "381/381 [==============================] - 6s 15ms/step - loss: 0.6270 - binary_accuracy: 0.6288 - val_loss: 0.6429 - val_binary_accuracy: 0.6185\n",
            "Epoch 7/20\n",
            "381/381 [==============================] - 6s 15ms/step - loss: 0.6307 - binary_accuracy: 0.6288 - val_loss: 0.6410 - val_binary_accuracy: 0.6231\n",
            "Epoch 8/20\n",
            "381/381 [==============================] - 6s 15ms/step - loss: 0.6163 - binary_accuracy: 0.6489 - val_loss: 0.6398 - val_binary_accuracy: 0.6264\n",
            "Epoch 9/20\n",
            "381/381 [==============================] - 6s 15ms/step - loss: 0.6202 - binary_accuracy: 0.6467 - val_loss: 0.6390 - val_binary_accuracy: 0.6290\n",
            "Epoch 10/20\n",
            "381/381 [==============================] - 6s 15ms/step - loss: 0.6200 - binary_accuracy: 0.6523 - val_loss: 0.6385 - val_binary_accuracy: 0.6297\n",
            "Epoch 11/20\n",
            "381/381 [==============================] - 6s 14ms/step - loss: 0.6203 - binary_accuracy: 0.6473 - val_loss: 0.6383 - val_binary_accuracy: 0.6310\n",
            "Epoch 12/20\n",
            "381/381 [==============================] - 6s 15ms/step - loss: 0.6162 - binary_accuracy: 0.6587 - val_loss: 0.6382 - val_binary_accuracy: 0.6323\n",
            "Epoch 13/20\n",
            "381/381 [==============================] - 6s 15ms/step - loss: 0.6198 - binary_accuracy: 0.6586 - val_loss: 0.6381 - val_binary_accuracy: 0.6323\n",
            "Epoch 14/20\n",
            "381/381 [==============================] - 6s 14ms/step - loss: 0.6146 - binary_accuracy: 0.6608 - val_loss: 0.6380 - val_binary_accuracy: 0.6323\n",
            "Epoch 15/20\n",
            "381/381 [==============================] - 6s 15ms/step - loss: 0.6177 - binary_accuracy: 0.6575 - val_loss: 0.6380 - val_binary_accuracy: 0.6323\n",
            "Epoch 16/20\n",
            "381/381 [==============================] - 6s 15ms/step - loss: 0.6212 - binary_accuracy: 0.6506 - val_loss: 0.6380 - val_binary_accuracy: 0.6330\n",
            "Epoch 17/20\n",
            "381/381 [==============================] - 6s 15ms/step - loss: 0.6255 - binary_accuracy: 0.6453 - val_loss: 0.6379 - val_binary_accuracy: 0.6330\n",
            "Epoch 18/20\n",
            "381/381 [==============================] - 6s 15ms/step - loss: 0.6183 - binary_accuracy: 0.6581 - val_loss: 0.6379 - val_binary_accuracy: 0.6330\n",
            "Epoch 19/20\n",
            "381/381 [==============================] - 6s 15ms/step - loss: 0.6195 - binary_accuracy: 0.6528 - val_loss: 0.6379 - val_binary_accuracy: 0.6330\n",
            "Epoch 20/20\n",
            "381/381 [==============================] - 6s 15ms/step - loss: 0.6194 - binary_accuracy: 0.6547 - val_loss: 0.6379 - val_binary_accuracy: 0.6330\n"
          ],
          "name": "stdout"
        }
      ]
    },
    {
      "cell_type": "code",
      "metadata": {
        "colab": {
          "base_uri": "https://localhost:8080/"
        },
        "id": "5xDYvkQ0HUsF",
        "outputId": "7a34af6f-4175-4d46-dfa8-c188fe161304"
      },
      "source": [
        "# Viewing a prediction \n",
        "for example, target in test_data.take(1):\n",
        "  print(tokenizer.sequences_to_texts(example.numpy())[0])\n",
        "  print(\"Prediction : {}\".format((model_1.predict(example)[0] > 0.5).astype(\"int32\")))\n",
        "  print(\"Real: {}\".format(target[0]))"
      ],
      "execution_count": 391,
      "outputs": [
        {
          "output_type": "stream",
          "text": [
            "gov brown allow parole 1976 chowchilla school bus hijacker james schoenfeld\n",
            "Prediction : [1]\n",
            "Real: 0\n"
          ],
          "name": "stdout"
        }
      ]
    },
    {
      "cell_type": "code",
      "metadata": {
        "colab": {
          "base_uri": "https://localhost:8080/",
          "height": 279
        },
        "id": "VRxju0YSMI9C",
        "outputId": "69852089-1657-4e98-871c-bf4b51b7f114"
      },
      "source": [
        "import matplotlib.pyplot as plt\n",
        "\n",
        "# Visualizing the training process on the loss function \n",
        "plt.plot(history_1.history[\"loss\"], color=\"b\", label = \"train set\")\n",
        "plt.plot(history_1.history[\"val_loss\"], color=\"r\", label = \"test set\")\n",
        "plt.legend()\n",
        "plt.ylabel(\"Loss\")\n",
        "plt.xlabel(\"Epochs\")\n",
        "plt.show()"
      ],
      "execution_count": 392,
      "outputs": [
        {
          "output_type": "display_data",
          "data": {
            "image/png": "[encoded data removed]",
            "text/plain": [
              "<Figure size 432x288 with 1 Axes>"
            ]
          },
          "metadata": {
            "tags": [],
            "needs_background": "light"
          }
        }
      ]
    },
    {
      "cell_type": "code",
      "metadata": {
        "colab": {
          "base_uri": "https://localhost:8080/",
          "height": 279
        },
        "id": "hl4KpwBtMyaH",
        "outputId": "f69ca58a-17dc-4b96-e7fc-dedc96ce963a"
      },
      "source": [
        "# Visualizing of the training process on the accuracy fonction\n",
        "plt.plot(history_1.history[\"binary_accuracy\"], color=\"b\", label = \"train set\" )\n",
        "plt.plot(history_1.history[\"val_binary_accuracy\"], color=\"r\", label = \"test set\")\n",
        "plt.legend()\n",
        "plt.ylabel(\"Accuracy\")\n",
        "plt.xlabel(\"Epochs\")\n",
        "plt.show()"
      ],
      "execution_count": 393,
      "outputs": [
        {
          "output_type": "display_data",
          "data": {
            "image/png": "[encoded data removed]",
            "text/plain": [
              "<Figure size 432x288 with 1 Axes>"
            ]
          },
          "metadata": {
            "tags": [],
            "needs_background": "light"
          }
        }
      ]
    },
    {
      "cell_type": "markdown",
      "metadata": {
        "id": "g7cuHM02GzZk"
      },
      "source": [
        "**2) MODEL N°2**"
      ]
    },
    {
      "cell_type": "code",
      "metadata": {
        "id": "6nF0emh3G2cs"
      },
      "source": [
        "# Building the model\n",
        "from tensorflow.keras.layers import Bidirectional, LSTM,TimeDistributed, Dropout\n",
        "\n",
        "model_2 = tf.keras.Sequential([\n",
        "                             Embedding(vocab_size + 1, 64, input_shape=[text.shape[1],]),\n",
        "                             Bidirectional(LSTM(64, return_sequences=True)),\n",
        "                             Bidirectional(LSTM(64, return_sequences=True)),\n",
        "                             LSTM(64, return_sequences=True),\n",
        "                             Dropout(0.05),\n",
        "                             TimeDistributed(Dense(32,\"relu\")),  \n",
        "                             Flatten(),\n",
        "                             Dropout(0.05),\n",
        "                             Dense(16, \"relu\"),\n",
        "                             Dropout(0.05),\n",
        "                             Dense(8, \"relu\"),\n",
        "                             Dense(1, activation=\"sigmoid\")\n",
        "                  ])"
      ],
      "execution_count": 394,
      "outputs": []
    },
    {
      "cell_type": "code",
      "metadata": {
        "colab": {
          "base_uri": "https://localhost:8080/"
        },
        "id": "Eh5XWiL2G545",
        "outputId": "4a114f37-33a5-4e62-a57b-65f666a270d0"
      },
      "source": [
        "# Looking at the summary of our model\n",
        "model_2.summary()"
      ],
      "execution_count": 395,
      "outputs": [
        {
          "output_type": "stream",
          "text": [
            "Model: \"sequential_12\"\n",
            "_________________________________________________________________\n",
            "Layer (type)                 Output Shape              Param #   \n",
            "=================================================================\n",
            "embedding_43 (Embedding)     (None, 32, 64)            1008000   \n",
            "_________________________________________________________________\n",
            "bidirectional_4 (Bidirection (None, 32, 128)           66048     \n",
            "_________________________________________________________________\n",
            "bidirectional_5 (Bidirection (None, 32, 128)           98816     \n",
            "_________________________________________________________________\n",
            "lstm_68 (LSTM)               (None, 32, 64)            49408     \n",
            "_________________________________________________________________\n",
            "dropout_14 (Dropout)         (None, 32, 64)            0         \n",
            "_________________________________________________________________\n",
            "time_distributed_2 (TimeDist (None, 32, 32)            2080      \n",
            "_________________________________________________________________\n",
            "flatten_12 (Flatten)         (None, 1024)              0         \n",
            "_________________________________________________________________\n",
            "dropout_15 (Dropout)         (None, 1024)              0         \n",
            "_________________________________________________________________\n",
            "dense_104 (Dense)            (None, 16)                16400     \n",
            "_________________________________________________________________\n",
            "dropout_16 (Dropout)         (None, 16)                0         \n",
            "_________________________________________________________________\n",
            "dense_105 (Dense)            (None, 8)                 136       \n",
            "_________________________________________________________________\n",
            "dense_106 (Dense)            (None, 1)                 9         \n",
            "=================================================================\n",
            "Total params: 1,240,897\n",
            "Trainable params: 1,240,897\n",
            "Non-trainable params: 0\n",
            "_________________________________________________________________\n"
          ],
          "name": "stdout"
        }
      ]
    },
    {
      "cell_type": "code",
      "metadata": {
        "id": "Qo_pPtUDG_yi"
      },
      "source": [
        "# Creating a compiler \n",
        "model_2.compile(optimizer = tf.keras.optimizers.Adam(lr_schedule),\n",
        "                loss = tf.keras.losses.BinaryCrossentropy(),\n",
        "                metrics = [tf.keras.metrics.BinaryAccuracy()])"
      ],
      "execution_count": 396,
      "outputs": []
    },
    {
      "cell_type": "code",
      "metadata": {
        "colab": {
          "base_uri": "https://localhost:8080/"
        },
        "id": "1UH-Wb6QHAnb",
        "outputId": "3a0adfd2-044f-413b-c717-a10b0c6e92a8"
      },
      "source": [
        "# Training the model\n",
        "history_2 = model_2.fit(train_data, epochs = 10, validation_data = test_data)"
      ],
      "execution_count": null,
      "outputs": [
        {
          "output_type": "stream",
          "text": [
            "Epoch 1/10\n",
            "381/381 [==============================] - 37s 77ms/step - loss: 0.6892 - binary_accuracy: 0.5519 - val_loss: 0.6713 - val_binary_accuracy: 0.5568\n",
            "Epoch 2/10\n",
            "381/381 [==============================] - 28s 73ms/step - loss: 0.5562 - binary_accuracy: 0.7192 - val_loss: 0.4891 - val_binary_accuracy: 0.7728\n",
            "Epoch 3/10\n",
            "381/381 [==============================] - 28s 73ms/step - loss: 0.3611 - binary_accuracy: 0.8511 - val_loss: 0.5021 - val_binary_accuracy: 0.7754\n",
            "Epoch 4/10\n",
            "381/381 [==============================] - 28s 72ms/step - loss: 0.3180 - binary_accuracy: 0.8785 - val_loss: 0.5131 - val_binary_accuracy: 0.7748\n",
            "Epoch 5/10\n",
            "381/381 [==============================] - 28s 73ms/step - loss: 0.2810 - binary_accuracy: 0.8922 - val_loss: 0.5248 - val_binary_accuracy: 0.7748\n",
            "Epoch 6/10\n",
            "381/381 [==============================] - 28s 73ms/step - loss: 0.2730 - binary_accuracy: 0.8915 - val_loss: 0.5343 - val_binary_accuracy: 0.7754\n",
            "Epoch 7/10\n",
            "381/381 [==============================] - 28s 74ms/step - loss: 0.2588 - binary_accuracy: 0.8953 - val_loss: 0.5376 - val_binary_accuracy: 0.7748\n",
            "Epoch 8/10\n",
            "381/381 [==============================] - 28s 74ms/step - loss: 0.2572 - binary_accuracy: 0.8982 - val_loss: 0.5398 - val_binary_accuracy: 0.7728\n",
            "Epoch 9/10\n",
            "381/381 [==============================] - 27s 72ms/step - loss: 0.2522 - binary_accuracy: 0.9016 - val_loss: 0.5422 - val_binary_accuracy: 0.7748\n",
            "Epoch 10/10\n",
            "381/381 [==============================] - 28s 73ms/step - loss: 0.2510 - binary_accuracy: 0.9045 - val_loss: 0.5429 - val_binary_accuracy: 0.7748\n"
          ],
          "name": "stdout"
        }
      ]
    },
    {
      "cell_type": "code",
      "metadata": {
        "colab": {
          "base_uri": "https://localhost:8080/"
        },
        "id": "um5up3F8Rf61",
        "outputId": "e2d10f44-e9bc-4fb7-be37-4ccdd0b78ca9"
      },
      "source": [
        "# Viewing a prediction \n",
        "for example, target in test_data.take(1):\n",
        "  print(tokenizer.sequences_to_texts(example.numpy())[0])\n",
        "  print(\"Prediction : {}\".format((model_2.predict(example)[0] > 0.5).astype(\"int32\")))\n",
        "  print(\"Real: {}\".format(target[0]))"
      ],
      "execution_count": null,
      "outputs": [
        {
          "output_type": "stream",
          "text": [
            "mprnews 600 wow s lot traumatise kid\n",
            "Prediction : [0]\n",
            "Real: 0\n"
          ],
          "name": "stdout"
        }
      ]
    },
    {
      "cell_type": "code",
      "metadata": {
        "colab": {
          "base_uri": "https://localhost:8080/",
          "height": 282
        },
        "id": "e5FSwm51RoX_",
        "outputId": "5a0ae68c-b952-4df4-dae0-2e5a85f2030d"
      },
      "source": [
        "import matplotlib.pyplot as plt\n",
        "\n",
        "# Visualizing the training process on the loss function \n",
        "plt.plot(history_2.history[\"loss\"], color=\"b\", label = \"train set\")\n",
        "plt.plot(history_2.history[\"val_loss\"], color=\"r\", label = \"test set\")\n",
        "plt.legend()\n",
        "plt.ylabel(\"Loss\")\n",
        "plt.xlabel(\"Epochs\")\n",
        "plt.show()"
      ],
      "execution_count": null,
      "outputs": [
        {
          "output_type": "display_data",
          "data": {
            "image/png": "[encoded data removed]",
            "text/plain": [
              "<Figure size 432x288 with 1 Axes>"
            ]
          },
          "metadata": {
            "tags": []
          }
        }
      ]
    },
    {
      "cell_type": "code",
      "metadata": {
        "colab": {
          "base_uri": "https://localhost:8080/",
          "height": 279
        },
        "id": "ER_uq_zlRv8g",
        "outputId": "865cbf64-fa86-48b4-94d7-e855ee02e06a"
      },
      "source": [
        "# Visualizing of the training process on the accuracy fonction\n",
        "plt.plot(history_2.history[\"binary_accuracy\"], color=\"b\", label = \"train set\" )\n",
        "plt.plot(history_2.history[\"val_binary_accuracy\"], color=\"r\", label = \"test set\")\n",
        "plt.legend()\n",
        "plt.ylabel(\"Accuracy\")\n",
        "plt.xlabel(\"Epochs\")\n",
        "plt.show()"
      ],
      "execution_count": null,
      "outputs": [
        {
          "output_type": "display_data",
          "data": {
            "image/png": "[encoded data removed]",
            "text/plain": [
              "<Figure size 432x288 with 1 Axes>"
            ]
          },
          "metadata": {
            "tags": []
          }
        }
      ]
    },
    {
      "cell_type": "markdown",
      "metadata": {
        "id": "kEjiFQ_NYlfn"
      },
      "source": [
        "**3) MODEL N°3**"
      ]
    },
    {
      "cell_type": "code",
      "metadata": {
        "id": "Qh7BfzHMYk-x"
      },
      "source": [
        "# Building the model\n",
        "from tensorflow.keras.layers import Bidirectional, SimpleRNN, Dense, GRU\n",
        "\n",
        "model_3 = tf.keras.Sequential([\n",
        "                             Embedding(vocab_size + 1, 64, input_shape=[text.shape[1],]),\n",
        "                             Bidirectional(GRU(64, 'tanh', return_sequences=True, recurrent_initializer='glorot_uniform')),\n",
        "                             Bidirectional(GRU(64, 'tanh', return_sequences=True, recurrent_initializer='glorot_uniform')),\n",
        "                             GRU(64, 'tanh', return_sequences=False, recurrent_initializer='glorot_uniform'),\n",
        "                             Dense(1, activation=\"sigmoid\")\n",
        "                  ])"
      ],
      "execution_count": 411,
      "outputs": []
    },
    {
      "cell_type": "code",
      "metadata": {
        "colab": {
          "base_uri": "https://localhost:8080/"
        },
        "id": "WeDuCwvHZLii",
        "outputId": "47399c96-a00a-4a2c-e6dd-6ebdbf3a854d"
      },
      "source": [
        "# Looking at the summary of our model\n",
        "model_3.summary()"
      ],
      "execution_count": 412,
      "outputs": [
        {
          "output_type": "stream",
          "text": [
            "Model: \"sequential_15\"\n",
            "_________________________________________________________________\n",
            "Layer (type)                 Output Shape              Param #   \n",
            "=================================================================\n",
            "embedding_47 (Embedding)     (None, 25, 64)            1008000   \n",
            "_________________________________________________________________\n",
            "bidirectional_10 (Bidirectio (None, 25, 128)           49920     \n",
            "_________________________________________________________________\n",
            "bidirectional_11 (Bidirectio (None, 25, 128)           74496     \n",
            "_________________________________________________________________\n",
            "gru_8 (GRU)                  (None, 64)                37248     \n",
            "_________________________________________________________________\n",
            "dense_109 (Dense)            (None, 1)                 65        \n",
            "=================================================================\n",
            "Total params: 1,169,729\n",
            "Trainable params: 1,169,729\n",
            "Non-trainable params: 0\n",
            "_________________________________________________________________\n"
          ],
          "name": "stdout"
        }
      ]
    },
    {
      "cell_type": "code",
      "metadata": {
        "id": "q3QScua7ZNdN"
      },
      "source": [
        "# Creating a compiler \n",
        "model_3.compile(optimizer = tf.keras.optimizers.Adam(lr_schedule),\n",
        "                loss = tf.keras.losses.BinaryCrossentropy(),\n",
        "                metrics = [tf.keras.metrics.BinaryAccuracy()])"
      ],
      "execution_count": 413,
      "outputs": []
    },
    {
      "cell_type": "code",
      "metadata": {
        "id": "A3x0RVaKZQTQ",
        "colab": {
          "base_uri": "https://localhost:8080/"
        },
        "outputId": "90a88a75-dace-4445-e153-119f4ada9cdd"
      },
      "source": [
        "# Training the model\n",
        "history_3 = model_3.fit(train_data, epochs = 10, validation_data = test_data)"
      ],
      "execution_count": 414,
      "outputs": [
        {
          "output_type": "stream",
          "text": [
            "Epoch 1/10\n",
            "381/381 [==============================] - 35s 74ms/step - loss: 0.6842 - binary_accuracy: 0.5749 - val_loss: 0.6862 - val_binary_accuracy: 0.5594\n",
            "Epoch 2/10\n",
            "381/381 [==============================] - 27s 70ms/step - loss: 0.6811 - binary_accuracy: 0.5777 - val_loss: 0.6861 - val_binary_accuracy: 0.5594\n",
            "Epoch 3/10\n",
            "381/381 [==============================] - 27s 70ms/step - loss: 0.6852 - binary_accuracy: 0.5605 - val_loss: 0.6851 - val_binary_accuracy: 0.5594\n",
            "Epoch 4/10\n",
            "381/381 [==============================] - 27s 70ms/step - loss: 0.6770 - binary_accuracy: 0.5713 - val_loss: 0.6625 - val_binary_accuracy: 0.5680\n",
            "Epoch 5/10\n",
            "381/381 [==============================] - 27s 70ms/step - loss: 0.5940 - binary_accuracy: 0.6650 - val_loss: 0.4955 - val_binary_accuracy: 0.7590\n",
            "Epoch 6/10\n",
            "381/381 [==============================] - 27s 70ms/step - loss: 0.3984 - binary_accuracy: 0.8305 - val_loss: 0.4886 - val_binary_accuracy: 0.7597\n",
            "Epoch 7/10\n",
            "381/381 [==============================] - 27s 70ms/step - loss: 0.3704 - binary_accuracy: 0.8480 - val_loss: 0.4890 - val_binary_accuracy: 0.7630\n",
            "Epoch 8/10\n",
            "381/381 [==============================] - 27s 71ms/step - loss: 0.3612 - binary_accuracy: 0.8515 - val_loss: 0.4890 - val_binary_accuracy: 0.7584\n",
            "Epoch 9/10\n",
            "381/381 [==============================] - 27s 70ms/step - loss: 0.3647 - binary_accuracy: 0.8539 - val_loss: 0.4889 - val_binary_accuracy: 0.7656\n",
            "Epoch 10/10\n",
            "381/381 [==============================] - 27s 70ms/step - loss: 0.3592 - binary_accuracy: 0.8541 - val_loss: 0.4889 - val_binary_accuracy: 0.7649\n"
          ],
          "name": "stdout"
        }
      ]
    },
    {
      "cell_type": "code",
      "metadata": {
        "colab": {
          "base_uri": "https://localhost:8080/"
        },
        "id": "iOApmd_KlDuw",
        "outputId": "c651ec4f-9bfe-45da-c19e-3fb399ee12ee"
      },
      "source": [
        "# Viewing a prediction \n",
        "for example, target in test_data.take(1):\n",
        "  print(tokenizer.sequences_to_texts(example.numpy())[0])\n",
        "  print(\"Prediction : {}\".format((model_3.predict(example)[0] > 0.5).astype(\"int32\")))\n",
        "  print(\"Real: {}\".format(target[0]))"
      ],
      "execution_count": 415,
      "outputs": [
        {
          "output_type": "stream",
          "text": [
            "wanna come watch twister toosoon\n",
            "WARNING:tensorflow:6 out of the last 6 calls to <function Model.make_predict_function.<locals>.predict_function at 0x7f99bf9a3ef0> triggered tf.function retracing. Tracing is expensive and the excessive number of tracings could be due to (1) creating @tf.function repeatedly in a loop, (2) passing tensors with different shapes, (3) passing Python objects instead of tensors. For (1), please define your @tf.function outside of the loop. For (2), @tf.function has experimental_relax_shapes=True option that relaxes argument shapes that can avoid unnecessary retracing. For (3), please refer to https://www.tensorflow.org/guide/function#controlling_retracing and https://www.tensorflow.org/api_docs/python/tf/function for  more details.\n",
            "Prediction : [0]\n",
            "Real: 0\n"
          ],
          "name": "stdout"
        }
      ]
    },
    {
      "cell_type": "code",
      "metadata": {
        "colab": {
          "base_uri": "https://localhost:8080/",
          "height": 282
        },
        "id": "FwqkXhRk4fh3",
        "outputId": "d9d16120-af07-4411-d155-42ad08863693"
      },
      "source": [
        "# Visualizing the training process on the loss function \n",
        "plt.plot(history_3.history[\"loss\"], color=\"b\", label = \"train set\")\n",
        "plt.plot(history_3.history[\"val_loss\"], color=\"r\", label = \"test set\")\n",
        "plt.legend()\n",
        "plt.ylabel(\"Loss\")\n",
        "plt.xlabel(\"Epochs\")\n",
        "plt.show()"
      ],
      "execution_count": 416,
      "outputs": [
        {
          "output_type": "display_data",
          "data": {
            "image/png": "[encoded data removed]",
            "text/plain": [
              "<Figure size 432x288 with 1 Axes>"
            ]
          },
          "metadata": {
            "tags": [],
            "needs_background": "light"
          }
        }
      ]
    },
    {
      "cell_type": "code",
      "metadata": {
        "colab": {
          "base_uri": "https://localhost:8080/",
          "height": 279
        },
        "id": "O37hTsV24nfg",
        "outputId": "91930ba9-145a-4d13-b868-031b5b4879d0"
      },
      "source": [
        "plt.plot(history_3.history[\"binary_accuracy\"], color=\"b\", label = \"train set\" )\n",
        "plt.plot(history_3.history[\"val_binary_accuracy\"], color=\"r\", label = \"test set\")\n",
        "plt.legend()\n",
        "plt.ylabel(\"Accuracy\")\n",
        "plt.xlabel(\"Epochs\")\n",
        "plt.show()"
      ],
      "execution_count": 417,
      "outputs": [
        {
          "output_type": "display_data",
          "data": {
            "image/png": "[encoded data removed]",
            "text/plain": [
              "<Figure size 432x288 with 1 Axes>"
            ]
          },
          "metadata": {
            "tags": [],
            "needs_background": "light"
          }
        }
      ]
    },
    {
      "cell_type": "markdown",
      "metadata": {
        "id": "vAXspXSO6kQ5"
      },
      "source": [
        "### **PART 2 : MULTIPLE OUTPUT**"
      ]
    },
    {
      "cell_type": "markdown",
      "metadata": {
        "id": "jLbHup_8SyCc"
      },
      "source": [
        "### **I. PREPROCESSING**"
      ]
    },
    {
      "cell_type": "code",
      "metadata": {
        "id": "fO2JYWva6rnt"
      },
      "source": [
        "#TFIDF\n",
        "from sklearn.feature_extraction.text import TfidfVectorizer\n",
        "vectorizer = TfidfVectorizer(max_df=0.9, min_df=0.01, max_features=1000)\n",
        "tfidf_data = vectorizer.fit_transform(df_text[\"text_clean\"])\n",
        "tfidf_data = tfidf_data.todense()"
      ],
      "execution_count": 374,
      "outputs": []
    },
    {
      "cell_type": "code",
      "metadata": {
        "colab": {
          "base_uri": "https://localhost:8080/",
          "height": 289
        },
        "id": "DEVAqd-DHcku",
        "outputId": "179604de-3263-4837-a8c4-9c437db21121"
      },
      "source": [
        "# Encoding the hastags\n",
        "tokenizer_hashtags = tf.keras.preprocessing.text.Tokenizer()\n",
        "tokenizer_hashtags.fit_on_texts(df_text[\"hashtags_clean\"])\n",
        "df_text[\"hashtags_encoded\"] = tokenizer_hashtags.texts_to_sequences(df_text[\"hashtags_clean\"])\n",
        "df_text.head()"
      ],
      "execution_count": 375,
      "outputs": [
        {
          "output_type": "execute_result",
          "data": {
            "text/html": [
              "<div>\n",
              "<style scoped>\n",
              "    .dataframe tbody tr th:only-of-type {\n",
              "        vertical-align: middle;\n",
              "    }\n",
              "\n",
              "    .dataframe tbody tr th {\n",
              "        vertical-align: top;\n",
              "    }\n",
              "\n",
              "    .dataframe thead th {\n",
              "        text-align: right;\n",
              "    }\n",
              "</style>\n",
              "<table border=\"1\" class=\"dataframe\">\n",
              "  <thead>\n",
              "    <tr style=\"text-align: right;\">\n",
              "      <th></th>\n",
              "      <th>text</th>\n",
              "      <th>target</th>\n",
              "      <th>hashtags</th>\n",
              "      <th>text_clean</th>\n",
              "      <th>hashtags_clean</th>\n",
              "      <th>text_encoded</th>\n",
              "      <th>len_text</th>\n",
              "      <th>hashtags_encoded</th>\n",
              "    </tr>\n",
              "  </thead>\n",
              "  <tbody>\n",
              "    <tr>\n",
              "      <th>4358</th>\n",
              "      <td>San Jose Mercury: Governor Brown allows parole...</td>\n",
              "      <td>0</td>\n",
              "      <td></td>\n",
              "      <td>san jose mercury governor brown allow parole c...</td>\n",
              "      <td></td>\n",
              "      <td>[1251, 4549, 3290, 980, 486, 556, 864, 39, 107...</td>\n",
              "      <td>75</td>\n",
              "      <td>[]</td>\n",
              "    </tr>\n",
              "    <tr>\n",
              "      <th>6348</th>\n",
              "      <td>CAP: 'the DRIVE Act represents the failure of ...</td>\n",
              "      <td>0</td>\n",
              "      <td></td>\n",
              "      <td>cap drive act represent failure senate republi...</td>\n",
              "      <td></td>\n",
              "      <td>[3534, 236, 561, 4046, 257, 2660, 1627, 1898, ...</td>\n",
              "      <td>105</td>\n",
              "      <td>[]</td>\n",
              "    </tr>\n",
              "    <tr>\n",
              "      <th>3295</th>\n",
              "      <td>Fire crews evacuate passengers from a Gold Coa...</td>\n",
              "      <td>1</td>\n",
              "      <td>#TenNews</td>\n",
              "      <td>fire crew evacuate passenger gold coast tram t...</td>\n",
              "      <td>TenNews</td>\n",
              "      <td>[3, 478, 88, 724, 1034, 905, 1390, 218, 1709, ...</td>\n",
              "      <td>87</td>\n",
              "      <td>[476]</td>\n",
              "    </tr>\n",
              "    <tr>\n",
              "      <th>4644</th>\n",
              "      <td>@yahoocare perhaps you should change you name ...</td>\n",
              "      <td>0</td>\n",
              "      <td></td>\n",
              "      <td>yahoocare change yahoo not care inundated comp...</td>\n",
              "      <td></td>\n",
              "      <td>[12049, 148, 3211, 1, 357, 12050, 3303, 826]</td>\n",
              "      <td>59</td>\n",
              "      <td>[]</td>\n",
              "    </tr>\n",
              "    <tr>\n",
              "      <th>513</th>\n",
              "      <td>TV program I saw said US air plane flew to ura...</td>\n",
              "      <td>1</td>\n",
              "      <td></td>\n",
              "      <td>tv program see say air plane fly uranium fukus...</td>\n",
              "      <td></td>\n",
              "      <td>[582, 1064, 81, 46, 248, 345, 949, 3886, 708, ...</td>\n",
              "      <td>86</td>\n",
              "      <td>[]</td>\n",
              "    </tr>\n",
              "  </tbody>\n",
              "</table>\n",
              "</div>"
            ],
            "text/plain": [
              "                                                   text  ...  hashtags_encoded\n",
              "4358  San Jose Mercury: Governor Brown allows parole...  ...                []\n",
              "6348  CAP: 'the DRIVE Act represents the failure of ...  ...                []\n",
              "3295  Fire crews evacuate passengers from a Gold Coa...  ...             [476]\n",
              "4644  @yahoocare perhaps you should change you name ...  ...                []\n",
              "513   TV program I saw said US air plane flew to ura...  ...                []\n",
              "\n",
              "[5 rows x 8 columns]"
            ]
          },
          "metadata": {
            "tags": []
          },
          "execution_count": 375
        }
      ]
    },
    {
      "cell_type": "code",
      "metadata": {
        "id": "3GOVGEm6Jh8a"
      },
      "source": [
        "# Adding zero padding at the end of the hashtags\n",
        "hashtags_pad = tf.keras.preprocessing.sequence.pad_sequences(df_text[\"hashtags_encoded\"], padding = \"post\")"
      ],
      "execution_count": 376,
      "outputs": []
    },
    {
      "cell_type": "code",
      "metadata": {
        "id": "oLzpdAVrHOYX"
      },
      "source": [
        "# Creating a tensort dataset\n",
        "multiple_ds = tf.data.Dataset.from_tensor_slices((text_pad, tfidf_data,hashtags_pad, df_text[\"target\"].values))"
      ],
      "execution_count": 377,
      "outputs": []
    },
    {
      "cell_type": "markdown",
      "metadata": {
        "id": "1mYvlnHTKKAF"
      },
      "source": [
        "### **II. TRAIN TEST SPLIT PROCESSING**"
      ]
    },
    {
      "cell_type": "code",
      "metadata": {
        "id": "QYmDkglEKPqn"
      },
      "source": [
        "# Splitting in train set and test set then shuffling and batching\n",
        "take_size = int(df_text.shape[0] * 0.8)\n",
        "\n",
        "train_data_multi = multiple_ds.take(take_size)\n",
        "test_data_multi = multiple_ds.skip(take_size)\n",
        "\n",
        "train_data_multi = train_data_multi.shuffle(len(train_data_multi)).batch(16)\n",
        "test_data_multi = test_data_multi.batch(16)"
      ],
      "execution_count": 378,
      "outputs": []
    },
    {
      "cell_type": "code",
      "metadata": {
        "colab": {
          "base_uri": "https://localhost:8080/"
        },
        "id": "0ElH0l84KUnO",
        "outputId": "5d0f8069-4d54-4c16-e93d-89e4b13e37c9"
      },
      "source": [
        "# Looking at a batch\n",
        "for text_multi, tfidf_sample, hashtags, label in train_data_multi.take(1):\n",
        "  print(text_multi, tfidf_sample, hashtags, label)"
      ],
      "execution_count": 379,
      "outputs": [
        {
          "output_type": "stream",
          "text": [
            "tf.Tensor(\n",
            "[[   44   601  5287   194  2824   768   108   426     0     0     0     0\n",
            "      0     0     0     0     0     0     0     0     0     0     0     0\n",
            "      0]\n",
            " [  426   927   117   752   254   175   125     0     0     0     0     0\n",
            "      0     0     0     0     0     0     0     0     0     0     0     0\n",
            "      0]\n",
            " [   44    63  1582   378   241  1223  5190   950  2778  5191  5192     0\n",
            "      0     0     0     0     0     0     0     0     0     0     0     0\n",
            "      0]\n",
            " [ 1702    52   287  2691  2247  1702    52  3396  1261   243  3397     0\n",
            "      0     0     0     0     0     0     0     0     0     0     0     0\n",
            "      0]\n",
            " [  523     4 14037  1132  4437  3005 14038 14039     0     0     0     0\n",
            "      0     0     0     0     0     0     0     0     0     0     0     0\n",
            "      0]\n",
            " [15307   309   474   614   463   333  5236 15308   143 15309    10    14\n",
            "   1638     0     0     0     0     0     0     0     0     0     0     0\n",
            "      0]\n",
            " [   52  2074   123  2075  1321  1997  1804    59    13     0     0     0\n",
            "      0     0     0     0     0     0     0     0     0     0     0     0\n",
            "      0]\n",
            " [12387  1073   105   405 12388 12389     0     0     0     0     0     0\n",
            "      0     0     0     0     0     0     0     0     0     0     0     0\n",
            "      0]\n",
            " [ 2962  3883  3884  6149   562  1215    21    31   562  1215  2962  6150\n",
            "      0     0     0     0     0     0     0     0     0     0     0     0\n",
            "      0]\n",
            " [ 6101  1194    21    14  6102   671   485  6103  6104     0     0     0\n",
            "      0     0     0     0     0     0     0     0     0     0     0     0\n",
            "      0]\n",
            " [  232  3627  2255  3628   133     0     0     0     0     0     0     0\n",
            "      0     0     0     0     0     0     0     0     0     0     0     0\n",
            "      0]\n",
            " [  592  1118   152  8591  1327   466  8592   320     0     0     0     0\n",
            "      0     0     0     0     0     0     0     0     0     0     0     0\n",
            "      0]\n",
            " [    4   914   293   688   376   377   572   390   838    10  1164     0\n",
            "      0     0     0     0     0     0     0     0     0     0     0     0\n",
            "      0]\n",
            " [   51  9109   370   100   244   744  3209   193  2244  4596  1332  9110\n",
            "      0     0     0     0     0     0     0     0     0     0     0     0\n",
            "      0]\n",
            " [11517     4   847 11518   226    96  1945 11519 11520  3570 11521 11522\n",
            "    108 11523  3570   171     0     0     0     0     0     0     0     0\n",
            "      0]\n",
            " [  290  1692  2806    14  2334  5313    10    14   222   481  2228     0\n",
            "      0     0     0     0     0     0     0     0     0     0     0     0\n",
            "      0]], shape=(16, 25), dtype=int32) tf.Tensor(\n",
            "[[0. 0. 0. ... 0. 0. 0.]\n",
            " [0. 0. 0. ... 0. 0. 0.]\n",
            " [0. 0. 0. ... 0. 0. 0.]\n",
            " ...\n",
            " [0. 0. 0. ... 0. 0. 0.]\n",
            " [0. 0. 0. ... 0. 0. 0.]\n",
            " [0. 0. 0. ... 0. 0. 0.]], shape=(16, 81), dtype=float64) tf.Tensor(\n",
            "[[   0    0    0    0    0    0    0    0    0    0    0    0    0]\n",
            " [   0    0    0    0    0    0    0    0    0    0    0    0    0]\n",
            " [   0    0    0    0    0    0    0    0    0    0    0    0    0]\n",
            " [   0    0    0    0    0    0    0    0    0    0    0    0    0]\n",
            " [   0    0    0    0    0    0    0    0    0    0    0    0    0]\n",
            " [ 232    0    0    0    0    0    0    0    0    0    0    0    0]\n",
            " [   0    0    0    0    0    0    0    0    0    0    0    0    0]\n",
            " [   0    0    0    0    0    0    0    0    0    0    0    0    0]\n",
            " [   0    0    0    0    0    0    0    0    0    0    0    0    0]\n",
            " [   0    0    0    0    0    0    0    0    0    0    0    0    0]\n",
            " [   0    0    0    0    0    0    0    0    0    0    0    0    0]\n",
            " [   0    0    0    0    0    0    0    0    0    0    0    0    0]\n",
            " [   0    0    0    0    0    0    0    0    0    0    0    0    0]\n",
            " [ 115   76  389 1174   74 1175    0    0    0    0    0    0    0]\n",
            " [   0    0    0    0    0    0    0    0    0    0    0    0    0]\n",
            " [   0    0    0    0    0    0    0    0    0    0    0    0    0]], shape=(16, 13), dtype=int32) tf.Tensor([0 0 1 0 0 1 0 0 0 1 1 0 0 0 0 1], shape=(16,), dtype=int64)\n"
          ],
          "name": "stdout"
        }
      ]
    },
    {
      "cell_type": "markdown",
      "metadata": {
        "id": "bGsZ1RBfTJ4D"
      },
      "source": [
        "### **III. MODELING**"
      ]
    },
    {
      "cell_type": "code",
      "metadata": {
        "id": "ax40RXlyTBCa"
      },
      "source": [
        "vocab_size_hash = len(tokenizer_hastags.word_index)\n",
        "vocab_size = len(tokenizer.word_index)\n",
        "\n",
        "# Model for sequences\n",
        "emb = tf.keras.layers.Embedding(vocab_size+1, 64, input_length=text_multi.shape[1])\n",
        "lstm1 = tf.keras.layers.LSTM(64, return_sequences=True)\n",
        "lstm2 = tf.keras.layers.LSTM(32, return_sequences=False)\n",
        "\n",
        "# Model for hashtags\n",
        "\n",
        "emb_hash = tf.keras.layers.Embedding(vocab_size_hash+1, 64, input_length=hashtags.shape[1])\n",
        "lstm1_hash = tf.keras.layers.LSTM(64, return_sequences=True)\n",
        "lstm2_hash = tf.keras.layers.LSTM(32, return_sequences=False)\n",
        "\n",
        "# Model for tfidf\n",
        "dense_tfidf = tf.keras.layers.Dense(64, activation=\"relu\")\n",
        "\n",
        "# Model concatenated data\n",
        "dense_concat = tf.keras.layers.Dense(32, activation=\"relu\")\n",
        "dense_pred = tf.keras.layers.Dense(1, activation=\"sigmoid\")"
      ],
      "execution_count": 380,
      "outputs": []
    },
    {
      "cell_type": "code",
      "metadata": {
        "colab": {
          "base_uri": "https://localhost:8080/"
        },
        "id": "W8-vJ_Ib8Lho",
        "outputId": "f95cb3f7-638e-4a1b-bc34-68b0985715cd"
      },
      "source": [
        "print(vocab_size_hash)\n",
        "print(vocab_size)\n",
        "print(hashtags.shape[1])"
      ],
      "execution_count": 381,
      "outputs": [
        {
          "output_type": "stream",
          "text": [
            "1916\n",
            "15749\n",
            "13\n"
          ],
          "name": "stdout"
        }
      ]
    },
    {
      "cell_type": "code",
      "metadata": {
        "id": "FyykeY92TWum"
      },
      "source": [
        "input_text = tf.keras.Input(shape = [text_multi.shape[1]], name=\"text\")\n",
        "input_hashtag = tf.keras.Input(shape=[hashtags.shape[1]], name=\"hashtags\")\n",
        "input_tfidf = tf.keras.Input(shape=[tfidf_sample.shape[1]], name=\"tfidf\")\n",
        "\n",
        "text = emb(input_text)\n",
        "text = lstm1(text)\n",
        "text = lstm2(text)\n",
        "\n",
        "hashtags = emb_hash(input_hashtag)\n",
        "hashtags = lstm1_hash(hashtags)\n",
        "hashtags = lstm2_hash(hashtags)\n",
        "\n",
        "tfidf_output = dense_tfidf(input_tfidf)\n",
        "\n",
        "concat = tf.keras.layers.Concatenate()([text,hashtags,tfidf_output])\n",
        "\n",
        "concat = dense_concat(concat)\n",
        "pred = dense_pred(concat)"
      ],
      "execution_count": 382,
      "outputs": []
    },
    {
      "cell_type": "code",
      "metadata": {
        "id": "Zdja-OpXTazH"
      },
      "source": [
        "model_multi = tf.keras.Model(inputs=[input_text,input_hashtag,input_tfidf], outputs=pred)"
      ],
      "execution_count": 383,
      "outputs": []
    },
    {
      "cell_type": "code",
      "metadata": {
        "colab": {
          "base_uri": "https://localhost:8080/"
        },
        "id": "msnTJfcqW7Wu",
        "outputId": "ea0d3ede-96a9-4a18-9b6b-9bbef93d64fb"
      },
      "source": [
        "model_multi.summary()"
      ],
      "execution_count": 384,
      "outputs": [
        {
          "output_type": "stream",
          "text": [
            "Model: \"model_11\"\n",
            "__________________________________________________________________________________________________\n",
            "Layer (type)                    Output Shape         Param #     Connected to                     \n",
            "==================================================================================================\n",
            "text (InputLayer)               [(None, 25)]         0                                            \n",
            "__________________________________________________________________________________________________\n",
            "hashtags (InputLayer)           [(None, 13)]         0                                            \n",
            "__________________________________________________________________________________________________\n",
            "embedding_41 (Embedding)        (None, 25, 64)       1008000     text[0][0]                       \n",
            "__________________________________________________________________________________________________\n",
            "embedding_42 (Embedding)        (None, 13, 64)       122688      hashtags[0][0]                   \n",
            "__________________________________________________________________________________________________\n",
            "lstm_62 (LSTM)                  (None, 25, 64)       33024       embedding_41[0][0]               \n",
            "__________________________________________________________________________________________________\n",
            "lstm_64 (LSTM)                  (None, 13, 64)       33024       embedding_42[0][0]               \n",
            "__________________________________________________________________________________________________\n",
            "tfidf (InputLayer)              [(None, 81)]         0                                            \n",
            "__________________________________________________________________________________________________\n",
            "lstm_63 (LSTM)                  (None, 32)           12416       lstm_62[0][0]                    \n",
            "__________________________________________________________________________________________________\n",
            "lstm_65 (LSTM)                  (None, 32)           12416       lstm_64[0][0]                    \n",
            "__________________________________________________________________________________________________\n",
            "dense_100 (Dense)               (None, 64)           5248        tfidf[0][0]                      \n",
            "__________________________________________________________________________________________________\n",
            "concatenate_15 (Concatenate)    (None, 128)          0           lstm_63[0][0]                    \n",
            "                                                                 lstm_65[0][0]                    \n",
            "                                                                 dense_100[0][0]                  \n",
            "__________________________________________________________________________________________________\n",
            "dense_101 (Dense)               (None, 32)           4128        concatenate_15[0][0]             \n",
            "__________________________________________________________________________________________________\n",
            "dense_102 (Dense)               (None, 1)            33          dense_101[0][0]                  \n",
            "==================================================================================================\n",
            "Total params: 1,230,977\n",
            "Trainable params: 1,230,977\n",
            "Non-trainable params: 0\n",
            "__________________________________________________________________________________________________\n"
          ],
          "name": "stdout"
        }
      ]
    },
    {
      "cell_type": "code",
      "metadata": {
        "colab": {
          "base_uri": "https://localhost:8080/",
          "height": 661
        },
        "id": "XZ3nxRIeTbe5",
        "outputId": "e8806c5f-c6b4-48e5-d1de-7395938a2e74"
      },
      "source": [
        "tf.keras.utils.plot_model(model_multi)"
      ],
      "execution_count": 311,
      "outputs": [
        {
          "output_type": "execute_result",
          "data": {
            "image/png": "[encoded data removed]",
            "text/plain": [
              "<IPython.core.display.Image object>"
            ]
          },
          "metadata": {
            "tags": []
          },
          "execution_count": 311
        }
      ]
    },
    {
      "cell_type": "code",
      "metadata": {
        "id": "ddRbPzesWprJ"
      },
      "source": [
        "# Creating a compiler \n",
        "model_multi.compile(optimizer = tf.keras.optimizers.Adam(lr_schedule),\n",
        "                loss = tf.keras.losses.BinaryCrossentropy(),\n",
        "                metrics = [tf.keras.metrics.BinaryAccuracy()])"
      ],
      "execution_count": 385,
      "outputs": []
    },
    {
      "cell_type": "code",
      "metadata": {
        "colab": {
          "base_uri": "https://localhost:8080/"
        },
        "id": "Eiz7eRIXWuSt",
        "outputId": "d288e635-8b0b-4ac8-af10-30bf624b642b"
      },
      "source": [
        "# Training the model\n",
        "history_4 = model_multi.fit(x={\"text\": text_pad,\n",
        "             \"hashtags\": hashtags_pad,\n",
        "             \"tfidf\": tfidf_data},\n",
        "          y=df_text[\"target\"],\n",
        "          validation_split = 0.3,\n",
        "          batch_size = 16,\n",
        "          epochs=15)\n"
      ],
      "execution_count": 386,
      "outputs": [
        {
          "output_type": "stream",
          "text": [
            "Epoch 1/15\n",
            "334/334 [==============================] - 23s 49ms/step - loss: 0.6826 - binary_accuracy: 0.5689 - val_loss: 0.6671 - val_binary_accuracy: 0.5644\n",
            "Epoch 2/15\n",
            "334/334 [==============================] - 16s 47ms/step - loss: 0.6187 - binary_accuracy: 0.6349 - val_loss: 0.5069 - val_binary_accuracy: 0.7763\n",
            "Epoch 3/15\n",
            "334/334 [==============================] - 16s 48ms/step - loss: 0.3902 - binary_accuracy: 0.8453 - val_loss: 0.4892 - val_binary_accuracy: 0.7837\n",
            "Epoch 4/15\n",
            "334/334 [==============================] - 16s 48ms/step - loss: 0.3242 - binary_accuracy: 0.8804 - val_loss: 0.4980 - val_binary_accuracy: 0.7833\n",
            "Epoch 5/15\n",
            "334/334 [==============================] - 16s 47ms/step - loss: 0.2997 - binary_accuracy: 0.8882 - val_loss: 0.5071 - val_binary_accuracy: 0.7789\n",
            "Epoch 6/15\n",
            "334/334 [==============================] - 16s 48ms/step - loss: 0.2899 - binary_accuracy: 0.8928 - val_loss: 0.5145 - val_binary_accuracy: 0.7754\n",
            "Epoch 7/15\n",
            "334/334 [==============================] - 16s 48ms/step - loss: 0.2750 - binary_accuracy: 0.8993 - val_loss: 0.5174 - val_binary_accuracy: 0.7763\n",
            "Epoch 8/15\n",
            "334/334 [==============================] - 16s 48ms/step - loss: 0.2680 - binary_accuracy: 0.9031 - val_loss: 0.5187 - val_binary_accuracy: 0.7767\n",
            "Epoch 9/15\n",
            "334/334 [==============================] - 16s 47ms/step - loss: 0.2532 - binary_accuracy: 0.9095 - val_loss: 0.5205 - val_binary_accuracy: 0.7771\n",
            "Epoch 10/15\n",
            "334/334 [==============================] - 16s 47ms/step - loss: 0.2559 - binary_accuracy: 0.9074 - val_loss: 0.5214 - val_binary_accuracy: 0.7767\n",
            "Epoch 11/15\n",
            "334/334 [==============================] - 16s 47ms/step - loss: 0.2491 - binary_accuracy: 0.9132 - val_loss: 0.5223 - val_binary_accuracy: 0.7767\n",
            "Epoch 12/15\n",
            "334/334 [==============================] - 16s 47ms/step - loss: 0.2615 - binary_accuracy: 0.9042 - val_loss: 0.5227 - val_binary_accuracy: 0.7767\n",
            "Epoch 13/15\n",
            "334/334 [==============================] - 16s 47ms/step - loss: 0.2657 - binary_accuracy: 0.8998 - val_loss: 0.5230 - val_binary_accuracy: 0.7767\n",
            "Epoch 14/15\n",
            "334/334 [==============================] - 16s 48ms/step - loss: 0.2550 - binary_accuracy: 0.9074 - val_loss: 0.5232 - val_binary_accuracy: 0.7767\n",
            "Epoch 15/15\n",
            "334/334 [==============================] - 16s 48ms/step - loss: 0.2568 - binary_accuracy: 0.9060 - val_loss: 0.5232 - val_binary_accuracy: 0.7767\n"
          ],
          "name": "stdout"
        }
      ]
    },
    {
      "cell_type": "code",
      "metadata": {
        "colab": {
          "base_uri": "https://localhost:8080/",
          "height": 279
        },
        "id": "MgMN46TTIOV3",
        "outputId": "31f5af52-53a9-4c06-f6e4-0004ef498787"
      },
      "source": [
        "# Visualizing the training process on the loss function \n",
        "plt.plot(history_4.history[\"loss\"], color=\"b\", label = \"train set\")\n",
        "plt.plot(history_4.history[\"val_loss\"], color=\"r\", label = \"test set\")\n",
        "plt.legend()\n",
        "plt.ylabel(\"Loss\")\n",
        "plt.xlabel(\"Epochs\")\n",
        "plt.show()"
      ],
      "execution_count": 389,
      "outputs": [
        {
          "output_type": "display_data",
          "data": {
            "image/png": "[encoded data removed]",
            "text/plain": [
              "<Figure size 432x288 with 1 Axes>"
            ]
          },
          "metadata": {
            "tags": [],
            "needs_background": "light"
          }
        }
      ]
    },
    {
      "cell_type": "code",
      "metadata": {
        "colab": {
          "base_uri": "https://localhost:8080/",
          "height": 279
        },
        "id": "XzIyxTbMIRWl",
        "outputId": "eb03b419-fb43-493b-f40f-860d25fbfdb8"
      },
      "source": [
        "plt.plot(history_4.history[\"binary_accuracy\"], color=\"b\", label = \"train set\" )\n",
        "plt.plot(history_4.history[\"val_binary_accuracy\"], color=\"r\", label = \"test set\")\n",
        "plt.legend()\n",
        "plt.ylabel(\"Accuracy\")\n",
        "plt.xlabel(\"Epochs\")\n",
        "plt.show()"
      ],
      "execution_count": 390,
      "outputs": [
        {
          "output_type": "display_data",
          "data": {
            "image/png": "[encoded data removed]",
            "text/plain": [
              "<Figure size 432x288 with 1 Axes>"
            ]
          },
          "metadata": {
            "tags": [],
            "needs_background": "light"
          }
        }
      ]
    }
  ]
}